{
 "cells": [
  {
   "cell_type": "code",
   "execution_count": 1,
   "metadata": {},
   "outputs": [],
   "source": [
    "import pandas as pd\n",
    "from tqdm.notebook import tqdm\n",
    "import numpy as np\n",
    "from IPython.display import display\n",
    "import requests, sys, os\n",
    "import omnipath as op"
   ]
  },
  {
   "cell_type": "markdown",
   "metadata": {},
   "source": [
    "# Functions"
   ]
  },
  {
   "cell_type": "code",
   "execution_count": 2,
   "metadata": {},
   "outputs": [],
   "source": [
    "def check_dir(dir: str):\n",
    "    if os.path.exists(dir) and os.path.isdir(dir):\n",
    "        pass\n",
    "    else:\n",
    "        os.makedirs(dir)"
   ]
  },
  {
   "cell_type": "code",
   "execution_count": 3,
   "metadata": {},
   "outputs": [],
   "source": [
    "def string_protein_search(string_ids: list, hgnc_table: pd.DataFrame):\n",
    "    \n",
    "    proteins = {prot: prot.split('.')[1] for prot in string_ids}\n",
    "    server = \"https://rest.ensembl.org\"\n",
    "    ext = \"/lookup/id\"\n",
    "    headers={ \"Content-Type\" : \"application/json\", \"Accept\" : \"application/json\"}\n",
    "    \n",
    "    # The first query returned transcript symbols\n",
    "    r = requests.post(server+ext, headers=headers, json={'ids': list(proteins.values())})\n",
    "    if not r.ok:\n",
    "        r.raise_for_status()\n",
    "        sys.exit()\n",
    "    \n",
    "    decoded = r.json()\n",
    "    \n",
    "    transcripts = {}\n",
    "    for k, v in proteins.items():\n",
    "        if decoded[v] is not None:\n",
    "            transcripts[k] = decoded[v]['Parent']\n",
    "    \n",
    "    # The second query will return gene symbols\n",
    "    r = requests.post(server+ext, headers=headers, json={'ids': list(transcripts.values())})\n",
    "    if not r.ok:\n",
    "        r.raise_for_status()\n",
    "        sys.exit()\n",
    "    \n",
    "    decoded = r.json()\n",
    "    \n",
    "    genes = []\n",
    "    for k, v in transcripts.items():\n",
    "        if decoded[v] is not None:\n",
    "            genes.append((k, decoded[v]['Parent']))\n",
    "    \n",
    "    genes = pd.DataFrame(genes, columns=['string_ids', 'ensembl_gene_id'])\n",
    "    genes = pd.merge(genes, hgnc_table)[['string_ids', 'symbol']]\n",
    "\n",
    "    return genes"
   ]
  },
  {
   "cell_type": "markdown",
   "metadata": {},
   "source": [
    "# Data"
   ]
  },
  {
   "cell_type": "code",
   "execution_count": 4,
   "metadata": {},
   "outputs": [],
   "source": [
    "datadir = \"data/\"\n",
    "check_dir(datadir)"
   ]
  },
  {
   "cell_type": "code",
   "execution_count": 5,
   "metadata": {},
   "outputs": [
    {
     "data": {
      "text/html": [
       "<div>\n",
       "<style scoped>\n",
       "    .dataframe tbody tr th:only-of-type {\n",
       "        vertical-align: middle;\n",
       "    }\n",
       "\n",
       "    .dataframe tbody tr th {\n",
       "        vertical-align: top;\n",
       "    }\n",
       "\n",
       "    .dataframe thead th {\n",
       "        text-align: right;\n",
       "    }\n",
       "</style>\n",
       "<table border=\"1\" class=\"dataframe\">\n",
       "  <thead>\n",
       "    <tr style=\"text-align: right;\">\n",
       "      <th></th>\n",
       "      <th>hgnc_id</th>\n",
       "      <th>symbol</th>\n",
       "      <th>name</th>\n",
       "      <th>locus_group</th>\n",
       "      <th>locus_type</th>\n",
       "      <th>status</th>\n",
       "      <th>location</th>\n",
       "      <th>location_sortable</th>\n",
       "      <th>alias_symbol</th>\n",
       "      <th>alias_name</th>\n",
       "      <th>...</th>\n",
       "      <th>cd</th>\n",
       "      <th>lncrnadb</th>\n",
       "      <th>enzyme_id</th>\n",
       "      <th>intermediate_filament_db</th>\n",
       "      <th>rna_central_ids</th>\n",
       "      <th>lncipedia</th>\n",
       "      <th>gtrnadb</th>\n",
       "      <th>agr</th>\n",
       "      <th>mane_select</th>\n",
       "      <th>gencc</th>\n",
       "    </tr>\n",
       "  </thead>\n",
       "  <tbody>\n",
       "    <tr>\n",
       "      <th>0</th>\n",
       "      <td>HGNC:5</td>\n",
       "      <td>A1BG</td>\n",
       "      <td>alpha-1-B glycoprotein</td>\n",
       "      <td>protein-coding gene</td>\n",
       "      <td>gene with protein product</td>\n",
       "      <td>Approved</td>\n",
       "      <td>19q13.43</td>\n",
       "      <td>19q13.43</td>\n",
       "      <td>&lt;NA&gt;</td>\n",
       "      <td>&lt;NA&gt;</td>\n",
       "      <td>...</td>\n",
       "      <td>&lt;NA&gt;</td>\n",
       "      <td>&lt;NA&gt;</td>\n",
       "      <td>&lt;NA&gt;</td>\n",
       "      <td>&lt;NA&gt;</td>\n",
       "      <td>&lt;NA&gt;</td>\n",
       "      <td>&lt;NA&gt;</td>\n",
       "      <td>&lt;NA&gt;</td>\n",
       "      <td>HGNC:5</td>\n",
       "      <td>ENST00000263100.8|NM_130786.4</td>\n",
       "      <td>&lt;NA&gt;</td>\n",
       "    </tr>\n",
       "    <tr>\n",
       "      <th>1</th>\n",
       "      <td>HGNC:37133</td>\n",
       "      <td>A1BG-AS1</td>\n",
       "      <td>A1BG antisense RNA 1</td>\n",
       "      <td>non-coding RNA</td>\n",
       "      <td>RNA, long non-coding</td>\n",
       "      <td>Approved</td>\n",
       "      <td>19q13.43</td>\n",
       "      <td>19q13.43</td>\n",
       "      <td>FLJ23569</td>\n",
       "      <td>&lt;NA&gt;</td>\n",
       "      <td>...</td>\n",
       "      <td>&lt;NA&gt;</td>\n",
       "      <td>&lt;NA&gt;</td>\n",
       "      <td>&lt;NA&gt;</td>\n",
       "      <td>&lt;NA&gt;</td>\n",
       "      <td>&lt;NA&gt;</td>\n",
       "      <td>A1BG-AS1</td>\n",
       "      <td>&lt;NA&gt;</td>\n",
       "      <td>HGNC:37133</td>\n",
       "      <td>&lt;NA&gt;</td>\n",
       "      <td>&lt;NA&gt;</td>\n",
       "    </tr>\n",
       "    <tr>\n",
       "      <th>2</th>\n",
       "      <td>HGNC:24086</td>\n",
       "      <td>A1CF</td>\n",
       "      <td>APOBEC1 complementation factor</td>\n",
       "      <td>protein-coding gene</td>\n",
       "      <td>gene with protein product</td>\n",
       "      <td>Approved</td>\n",
       "      <td>10q11.23</td>\n",
       "      <td>10q11.23</td>\n",
       "      <td>ACF|ASP|ACF64|ACF65|APOBEC1CF</td>\n",
       "      <td>&lt;NA&gt;</td>\n",
       "      <td>...</td>\n",
       "      <td>&lt;NA&gt;</td>\n",
       "      <td>&lt;NA&gt;</td>\n",
       "      <td>&lt;NA&gt;</td>\n",
       "      <td>&lt;NA&gt;</td>\n",
       "      <td>&lt;NA&gt;</td>\n",
       "      <td>&lt;NA&gt;</td>\n",
       "      <td>&lt;NA&gt;</td>\n",
       "      <td>HGNC:24086</td>\n",
       "      <td>ENST00000373997.8|NM_014576.4</td>\n",
       "      <td>&lt;NA&gt;</td>\n",
       "    </tr>\n",
       "    <tr>\n",
       "      <th>3</th>\n",
       "      <td>HGNC:7</td>\n",
       "      <td>A2M</td>\n",
       "      <td>alpha-2-macroglobulin</td>\n",
       "      <td>protein-coding gene</td>\n",
       "      <td>gene with protein product</td>\n",
       "      <td>Approved</td>\n",
       "      <td>12p13.31</td>\n",
       "      <td>12p13.31</td>\n",
       "      <td>FWP007|S863-7|CPAMD5</td>\n",
       "      <td>&lt;NA&gt;</td>\n",
       "      <td>...</td>\n",
       "      <td>&lt;NA&gt;</td>\n",
       "      <td>&lt;NA&gt;</td>\n",
       "      <td>&lt;NA&gt;</td>\n",
       "      <td>&lt;NA&gt;</td>\n",
       "      <td>&lt;NA&gt;</td>\n",
       "      <td>&lt;NA&gt;</td>\n",
       "      <td>&lt;NA&gt;</td>\n",
       "      <td>HGNC:7</td>\n",
       "      <td>ENST00000318602.12|NM_000014.6</td>\n",
       "      <td>HGNC:7</td>\n",
       "    </tr>\n",
       "    <tr>\n",
       "      <th>4</th>\n",
       "      <td>HGNC:27057</td>\n",
       "      <td>A2M-AS1</td>\n",
       "      <td>A2M antisense RNA 1</td>\n",
       "      <td>non-coding RNA</td>\n",
       "      <td>RNA, long non-coding</td>\n",
       "      <td>Approved</td>\n",
       "      <td>12p13.31</td>\n",
       "      <td>12p13.31</td>\n",
       "      <td>&lt;NA&gt;</td>\n",
       "      <td>&lt;NA&gt;</td>\n",
       "      <td>...</td>\n",
       "      <td>&lt;NA&gt;</td>\n",
       "      <td>&lt;NA&gt;</td>\n",
       "      <td>&lt;NA&gt;</td>\n",
       "      <td>&lt;NA&gt;</td>\n",
       "      <td>&lt;NA&gt;</td>\n",
       "      <td>A2M-AS1</td>\n",
       "      <td>&lt;NA&gt;</td>\n",
       "      <td>HGNC:27057</td>\n",
       "      <td>&lt;NA&gt;</td>\n",
       "      <td>&lt;NA&gt;</td>\n",
       "    </tr>\n",
       "  </tbody>\n",
       "</table>\n",
       "<p>5 rows × 54 columns</p>\n",
       "</div>"
      ],
      "text/plain": [
       "      hgnc_id    symbol                            name          locus_group  \\\n",
       "0      HGNC:5      A1BG          alpha-1-B glycoprotein  protein-coding gene   \n",
       "1  HGNC:37133  A1BG-AS1            A1BG antisense RNA 1       non-coding RNA   \n",
       "2  HGNC:24086      A1CF  APOBEC1 complementation factor  protein-coding gene   \n",
       "3      HGNC:7       A2M           alpha-2-macroglobulin  protein-coding gene   \n",
       "4  HGNC:27057   A2M-AS1             A2M antisense RNA 1       non-coding RNA   \n",
       "\n",
       "                  locus_type    status  location location_sortable  \\\n",
       "0  gene with protein product  Approved  19q13.43          19q13.43   \n",
       "1       RNA, long non-coding  Approved  19q13.43          19q13.43   \n",
       "2  gene with protein product  Approved  10q11.23          10q11.23   \n",
       "3  gene with protein product  Approved  12p13.31          12p13.31   \n",
       "4       RNA, long non-coding  Approved  12p13.31          12p13.31   \n",
       "\n",
       "                    alias_symbol alias_name  ...    cd lncrnadb enzyme_id  \\\n",
       "0                           <NA>       <NA>  ...  <NA>     <NA>      <NA>   \n",
       "1                       FLJ23569       <NA>  ...  <NA>     <NA>      <NA>   \n",
       "2  ACF|ASP|ACF64|ACF65|APOBEC1CF       <NA>  ...  <NA>     <NA>      <NA>   \n",
       "3           FWP007|S863-7|CPAMD5       <NA>  ...  <NA>     <NA>      <NA>   \n",
       "4                           <NA>       <NA>  ...  <NA>     <NA>      <NA>   \n",
       "\n",
       "  intermediate_filament_db rna_central_ids lncipedia gtrnadb         agr  \\\n",
       "0                     <NA>            <NA>      <NA>    <NA>      HGNC:5   \n",
       "1                     <NA>            <NA>  A1BG-AS1    <NA>  HGNC:37133   \n",
       "2                     <NA>            <NA>      <NA>    <NA>  HGNC:24086   \n",
       "3                     <NA>            <NA>      <NA>    <NA>      HGNC:7   \n",
       "4                     <NA>            <NA>   A2M-AS1    <NA>  HGNC:27057   \n",
       "\n",
       "                      mane_select   gencc  \n",
       "0   ENST00000263100.8|NM_130786.4    <NA>  \n",
       "1                            <NA>    <NA>  \n",
       "2   ENST00000373997.8|NM_014576.4    <NA>  \n",
       "3  ENST00000318602.12|NM_000014.6  HGNC:7  \n",
       "4                            <NA>    <NA>  \n",
       "\n",
       "[5 rows x 54 columns]"
      ]
     },
     "execution_count": 5,
     "metadata": {},
     "output_type": "execute_result"
    }
   ],
   "source": [
    "hgnc = pd.read_table('hgnc_complete_set.txt', header=0, dtype='string')\n",
    "hgnc.head()"
   ]
  },
  {
   "cell_type": "code",
   "execution_count": 6,
   "metadata": {},
   "outputs": [
    {
     "data": {
      "text/plain": [
       "Index(['hgnc_id', 'symbol', 'name', 'locus_group', 'locus_type', 'status',\n",
       "       'location', 'location_sortable', 'alias_symbol', 'alias_name',\n",
       "       'prev_symbol', 'prev_name', 'gene_group', 'gene_group_id',\n",
       "       'date_approved_reserved', 'date_symbol_changed', 'date_name_changed',\n",
       "       'date_modified', 'entrez_id', 'ensembl_gene_id', 'vega_id', 'ucsc_id',\n",
       "       'ena', 'refseq_accession', 'ccds_id', 'uniprot_ids', 'pubmed_id',\n",
       "       'mgd_id', 'rgd_id', 'lsdb', 'cosmic', 'omim_id', 'mirbase', 'homeodb',\n",
       "       'snornabase', 'bioparadigms_slc', 'orphanet', 'pseudogene.org',\n",
       "       'horde_id', 'merops', 'imgt', 'iuphar', 'kznf_gene_catalog',\n",
       "       'mamit-trnadb', 'cd', 'lncrnadb', 'enzyme_id',\n",
       "       'intermediate_filament_db', 'rna_central_ids', 'lncipedia', 'gtrnadb',\n",
       "       'agr', 'mane_select', 'gencc'],\n",
       "      dtype='object')"
      ]
     },
     "execution_count": 6,
     "metadata": {},
     "output_type": "execute_result"
    }
   ],
   "source": [
    "hgnc.columns"
   ]
  },
  {
   "cell_type": "code",
   "execution_count": 7,
   "metadata": {},
   "outputs": [
    {
     "name": "stdout",
     "output_type": "stream",
     "text": [
      "43723\n"
     ]
    },
    {
     "data": {
      "text/plain": [
       "0    A1BG\n",
       "Name: symbol, dtype: string"
      ]
     },
     "metadata": {},
     "output_type": "display_data"
    },
    {
     "name": "stdout",
     "output_type": "stream",
     "text": [
      "41042\n"
     ]
    },
    {
     "data": {
      "text/html": [
       "<div>\n",
       "<style scoped>\n",
       "    .dataframe tbody tr th:only-of-type {\n",
       "        vertical-align: middle;\n",
       "    }\n",
       "\n",
       "    .dataframe tbody tr th {\n",
       "        vertical-align: top;\n",
       "    }\n",
       "\n",
       "    .dataframe thead th {\n",
       "        text-align: right;\n",
       "    }\n",
       "</style>\n",
       "<table border=\"1\" class=\"dataframe\">\n",
       "  <thead>\n",
       "    <tr style=\"text-align: right;\">\n",
       "      <th></th>\n",
       "      <th>symbol</th>\n",
       "    </tr>\n",
       "    <tr>\n",
       "      <th>ensembl_gene_id</th>\n",
       "      <th></th>\n",
       "    </tr>\n",
       "  </thead>\n",
       "  <tbody>\n",
       "    <tr>\n",
       "      <th>ENSG00000121410</th>\n",
       "      <td>A1BG</td>\n",
       "    </tr>\n",
       "  </tbody>\n",
       "</table>\n",
       "</div>"
      ],
      "text/plain": [
       "                symbol\n",
       "ensembl_gene_id       \n",
       "ENSG00000121410   A1BG"
      ]
     },
     "metadata": {},
     "output_type": "display_data"
    },
    {
     "name": "stdout",
     "output_type": "stream",
     "text": [
      "20167\n"
     ]
    },
    {
     "data": {
      "text/html": [
       "<div>\n",
       "<style scoped>\n",
       "    .dataframe tbody tr th:only-of-type {\n",
       "        vertical-align: middle;\n",
       "    }\n",
       "\n",
       "    .dataframe tbody tr th {\n",
       "        vertical-align: top;\n",
       "    }\n",
       "\n",
       "    .dataframe thead th {\n",
       "        text-align: right;\n",
       "    }\n",
       "</style>\n",
       "<table border=\"1\" class=\"dataframe\">\n",
       "  <thead>\n",
       "    <tr style=\"text-align: right;\">\n",
       "      <th></th>\n",
       "      <th>symbol</th>\n",
       "    </tr>\n",
       "    <tr>\n",
       "      <th>uniprot_ids</th>\n",
       "      <th></th>\n",
       "    </tr>\n",
       "  </thead>\n",
       "  <tbody>\n",
       "    <tr>\n",
       "      <th>P04217</th>\n",
       "      <td>A1BG</td>\n",
       "    </tr>\n",
       "  </tbody>\n",
       "</table>\n",
       "</div>"
      ],
      "text/plain": [
       "            symbol\n",
       "uniprot_ids       \n",
       "P04217        A1BG"
      ]
     },
     "metadata": {},
     "output_type": "display_data"
    },
    {
     "name": "stdout",
     "output_type": "stream",
     "text": [
      "15317\n"
     ]
    },
    {
     "data": {
      "text/html": [
       "<div>\n",
       "<style scoped>\n",
       "    .dataframe tbody tr th:only-of-type {\n",
       "        vertical-align: middle;\n",
       "    }\n",
       "\n",
       "    .dataframe tbody tr th {\n",
       "        vertical-align: top;\n",
       "    }\n",
       "\n",
       "    .dataframe thead th {\n",
       "        text-align: right;\n",
       "    }\n",
       "</style>\n",
       "<table border=\"1\" class=\"dataframe\">\n",
       "  <thead>\n",
       "    <tr style=\"text-align: right;\">\n",
       "      <th></th>\n",
       "      <th>symbol</th>\n",
       "    </tr>\n",
       "    <tr>\n",
       "      <th>prev_symbol</th>\n",
       "      <th></th>\n",
       "    </tr>\n",
       "  </thead>\n",
       "  <tbody>\n",
       "    <tr>\n",
       "      <th>NCRNA00181</th>\n",
       "      <td>A1BG-AS1</td>\n",
       "    </tr>\n",
       "  </tbody>\n",
       "</table>\n",
       "</div>"
      ],
      "text/plain": [
       "               symbol\n",
       "prev_symbol          \n",
       "NCRNA00181   A1BG-AS1"
      ]
     },
     "execution_count": 7,
     "metadata": {},
     "output_type": "execute_result"
    }
   ],
   "source": [
    "# Process ids to map\n",
    "genesymbols = hgnc.symbol.drop_duplicates()\n",
    "print(len(genesymbols))\n",
    "display(genesymbols.head(1))\n",
    "\n",
    "ensembl_ids = (hgnc\n",
    "               .set_index(\"symbol\").ensembl_gene_id.dropna()\n",
    "               .drop_duplicates(keep=False).reset_index()\n",
    "               .set_index('ensembl_gene_id')\n",
    "              )\n",
    "print(len(ensembl_ids))\n",
    "display(ensembl_ids.head(1))\n",
    "\n",
    "uniprot_ids = (hgnc\n",
    "               .set_index(\"symbol\").uniprot_ids.dropna().str.split(\"|\")\n",
    "               .explode().drop_duplicates(keep=False).reset_index()\n",
    "               .set_index(\"uniprot_ids\")\n",
    "               )\n",
    "print(len(uniprot_ids))\n",
    "display(uniprot_ids.head(1))\n",
    "\n",
    "prev_symbols = (hgnc\n",
    "               .set_index(\"symbol\").prev_symbol.dropna().str.split(\"|\")\n",
    "               .explode().drop_duplicates(keep=False).reset_index()\n",
    "               .set_index(\"prev_symbol\")\n",
    "               )\n",
    "print(len(prev_symbols))\n",
    "prev_symbols.head(1)"
   ]
  },
  {
   "cell_type": "markdown",
   "metadata": {
    "jp-MarkdownHeadingCollapsed": true
   },
   "source": [
    "# HuRI"
   ]
  },
  {
   "cell_type": "code",
   "execution_count": 8,
   "metadata": {},
   "outputs": [
    {
     "data": {
      "text/html": [
       "<div>\n",
       "<style scoped>\n",
       "    .dataframe tbody tr th:only-of-type {\n",
       "        vertical-align: middle;\n",
       "    }\n",
       "\n",
       "    .dataframe tbody tr th {\n",
       "        vertical-align: top;\n",
       "    }\n",
       "\n",
       "    .dataframe thead th {\n",
       "        text-align: right;\n",
       "    }\n",
       "</style>\n",
       "<table border=\"1\" class=\"dataframe\">\n",
       "  <thead>\n",
       "    <tr style=\"text-align: right;\">\n",
       "      <th></th>\n",
       "      <th>Ensembl ID A</th>\n",
       "      <th>Ensembl ID B</th>\n",
       "    </tr>\n",
       "  </thead>\n",
       "  <tbody>\n",
       "    <tr>\n",
       "      <th>0</th>\n",
       "      <td>ENSG00000000005</td>\n",
       "      <td>ENSG00000061656</td>\n",
       "    </tr>\n",
       "    <tr>\n",
       "      <th>1</th>\n",
       "      <td>ENSG00000000005</td>\n",
       "      <td>ENSG00000099968</td>\n",
       "    </tr>\n",
       "    <tr>\n",
       "      <th>2</th>\n",
       "      <td>ENSG00000000005</td>\n",
       "      <td>ENSG00000104765</td>\n",
       "    </tr>\n",
       "    <tr>\n",
       "      <th>3</th>\n",
       "      <td>ENSG00000000005</td>\n",
       "      <td>ENSG00000105383</td>\n",
       "    </tr>\n",
       "    <tr>\n",
       "      <th>4</th>\n",
       "      <td>ENSG00000000005</td>\n",
       "      <td>ENSG00000114455</td>\n",
       "    </tr>\n",
       "  </tbody>\n",
       "</table>\n",
       "</div>"
      ],
      "text/plain": [
       "      Ensembl ID A     Ensembl ID B\n",
       "0  ENSG00000000005  ENSG00000061656\n",
       "1  ENSG00000000005  ENSG00000099968\n",
       "2  ENSG00000000005  ENSG00000104765\n",
       "3  ENSG00000000005  ENSG00000105383\n",
       "4  ENSG00000000005  ENSG00000114455"
      ]
     },
     "execution_count": 8,
     "metadata": {},
     "output_type": "execute_result"
    }
   ],
   "source": [
    "huri = pd.read_csv('HI-union.tsv', sep='\\t', header=None, names=['Ensembl ID A', 'Ensembl ID B'])\n",
    "huri.head()"
   ]
  },
  {
   "cell_type": "code",
   "execution_count": 9,
   "metadata": {},
   "outputs": [
    {
     "name": "stdout",
     "output_type": "stream",
     "text": [
      "64006\n",
      "63584\n"
     ]
    },
    {
     "data": {
      "text/html": [
       "<div>\n",
       "<style scoped>\n",
       "    .dataframe tbody tr th:only-of-type {\n",
       "        vertical-align: middle;\n",
       "    }\n",
       "\n",
       "    .dataframe tbody tr th {\n",
       "        vertical-align: top;\n",
       "    }\n",
       "\n",
       "    .dataframe thead th {\n",
       "        text-align: right;\n",
       "    }\n",
       "</style>\n",
       "<table border=\"1\" class=\"dataframe\">\n",
       "  <thead>\n",
       "    <tr style=\"text-align: right;\">\n",
       "      <th></th>\n",
       "      <th>protein_A</th>\n",
       "      <th>protein_B</th>\n",
       "    </tr>\n",
       "  </thead>\n",
       "  <tbody>\n",
       "    <tr>\n",
       "      <th>0</th>\n",
       "      <td>TNMD</td>\n",
       "      <td>SPAG4</td>\n",
       "    </tr>\n",
       "    <tr>\n",
       "      <th>1</th>\n",
       "      <td>TNMD</td>\n",
       "      <td>BCL2L13</td>\n",
       "    </tr>\n",
       "  </tbody>\n",
       "</table>\n",
       "</div>"
      ],
      "text/plain": [
       "  protein_A protein_B\n",
       "0      TNMD     SPAG4\n",
       "1      TNMD   BCL2L13"
      ]
     },
     "execution_count": 9,
     "metadata": {},
     "output_type": "execute_result"
    }
   ],
   "source": [
    "print(len(huri))\n",
    "huri_graph = (huri\n",
    "              .merge(ensembl_ids, left_on=\"Ensembl ID A\", right_index=True)\n",
    "              .merge(ensembl_ids, left_on=\"Ensembl ID B\", right_index=True)\n",
    "              [[\"symbol_x\", \"symbol_y\"]].rename(columns={\"symbol_x\": \"protein_A\", \"symbol_y\": \"protein_B\"})\n",
    "              .reset_index(drop=True)\n",
    "             )\n",
    "print(len(huri_graph))\n",
    "huri_graph.head(2)"
   ]
  },
  {
   "cell_type": "code",
   "execution_count": 10,
   "metadata": {},
   "outputs": [
    {
     "name": "stdout",
     "output_type": "stream",
     "text": [
      "Proteins in column A: 6888\n",
      "Proteins in column B: 7124\n",
      "Number of proteins (nodes): 9050\n",
      "Number of interactions (edges): 63584\n"
     ]
    }
   ],
   "source": [
    "# Mostrar os resultados\n",
    "genelist = set()\n",
    "for col in huri_graph.columns:\n",
    "    genes = huri_graph[col].unique().tolist()\n",
    "    print(f\"Proteins in column {col.split('_')[1]}: {len(genes)}\")\n",
    "    genelist |= set(genes)\n",
    "\n",
    "print(f\"Number of proteins (nodes): {len(genelist)}\")\n",
    "print(f\"Number of interactions (edges): {len(huri_graph)}\")"
   ]
  },
  {
   "cell_type": "code",
   "execution_count": 11,
   "metadata": {},
   "outputs": [],
   "source": [
    "huri_graph.to_csv(datadir+'huri_graph.csv', index=False)"
   ]
  },
  {
   "cell_type": "markdown",
   "metadata": {
    "jp-MarkdownHeadingCollapsed": true
   },
   "source": [
    "# Apid"
   ]
  },
  {
   "cell_type": "code",
   "execution_count": 12,
   "metadata": {},
   "outputs": [
    {
     "name": "stdout",
     "output_type": "stream",
     "text": [
      "265216\n"
     ]
    },
    {
     "data": {
      "text/html": [
       "<div>\n",
       "<style scoped>\n",
       "    .dataframe tbody tr th:only-of-type {\n",
       "        vertical-align: middle;\n",
       "    }\n",
       "\n",
       "    .dataframe tbody tr th {\n",
       "        vertical-align: top;\n",
       "    }\n",
       "\n",
       "    .dataframe thead th {\n",
       "        text-align: right;\n",
       "    }\n",
       "</style>\n",
       "<table border=\"1\" class=\"dataframe\">\n",
       "  <thead>\n",
       "    <tr style=\"text-align: right;\">\n",
       "      <th></th>\n",
       "      <th>InteractionID</th>\n",
       "      <th>UniprotID_A</th>\n",
       "      <th>UniprotName_A</th>\n",
       "      <th>GeneName_A</th>\n",
       "      <th>UniprotID_B</th>\n",
       "      <th>UniprotName_B</th>\n",
       "      <th>GeneName_B</th>\n",
       "      <th>ExpEvidences</th>\n",
       "      <th>Methods</th>\n",
       "      <th>Publications</th>\n",
       "      <th>3DStructures</th>\n",
       "      <th>CurationEvents</th>\n",
       "    </tr>\n",
       "  </thead>\n",
       "  <tbody>\n",
       "    <tr>\n",
       "      <th>0</th>\n",
       "      <td>1205000</td>\n",
       "      <td>Q14160</td>\n",
       "      <td>SCRIB_HUMAN</td>\n",
       "      <td>SCRIB</td>\n",
       "      <td>B7Z2Y1</td>\n",
       "      <td>B7Z2Y1_HUMAN</td>\n",
       "      <td>NaN</td>\n",
       "      <td>1</td>\n",
       "      <td>1</td>\n",
       "      <td>1</td>\n",
       "      <td>0</td>\n",
       "      <td>3</td>\n",
       "    </tr>\n",
       "    <tr>\n",
       "      <th>1</th>\n",
       "      <td>1205001</td>\n",
       "      <td>Q14160</td>\n",
       "      <td>SCRIB_HUMAN</td>\n",
       "      <td>SCRIB</td>\n",
       "      <td>Q14155</td>\n",
       "      <td>ARHG7_HUMAN</td>\n",
       "      <td>ARHGEF7</td>\n",
       "      <td>11</td>\n",
       "      <td>8</td>\n",
       "      <td>8</td>\n",
       "      <td>0</td>\n",
       "      <td>20</td>\n",
       "    </tr>\n",
       "  </tbody>\n",
       "</table>\n",
       "</div>"
      ],
      "text/plain": [
       "  InteractionID UniprotID_A UniprotName_A GeneName_A UniprotID_B  \\\n",
       "0       1205000      Q14160   SCRIB_HUMAN      SCRIB      B7Z2Y1   \n",
       "1       1205001      Q14160   SCRIB_HUMAN      SCRIB      Q14155   \n",
       "\n",
       "  UniprotName_B GeneName_B ExpEvidences Methods Publications 3DStructures  \\\n",
       "0  B7Z2Y1_HUMAN        NaN            1       1            1            0   \n",
       "1   ARHG7_HUMAN    ARHGEF7           11       8            8            0   \n",
       "\n",
       "  CurationEvents  \n",
       "0              3  \n",
       "1             20  "
      ]
     },
     "execution_count": 12,
     "metadata": {},
     "output_type": "execute_result"
    }
   ],
   "source": [
    "apid = pd.read_table(\"9606_noISI_Q2 (1).txt\", header=0, dtype=\"str\")\n",
    "print(len(apid))\n",
    "apid.head(2)"
   ]
  },
  {
   "cell_type": "code",
   "execution_count": 13,
   "metadata": {},
   "outputs": [
    {
     "name": "stdout",
     "output_type": "stream",
     "text": [
      "18173\n"
     ]
    },
    {
     "data": {
      "text/html": [
       "<div>\n",
       "<style scoped>\n",
       "    .dataframe tbody tr th:only-of-type {\n",
       "        vertical-align: middle;\n",
       "    }\n",
       "\n",
       "    .dataframe tbody tr th {\n",
       "        vertical-align: top;\n",
       "    }\n",
       "\n",
       "    .dataframe thead th {\n",
       "        text-align: right;\n",
       "    }\n",
       "</style>\n",
       "<table border=\"1\" class=\"dataframe\">\n",
       "  <thead>\n",
       "    <tr style=\"text-align: right;\">\n",
       "      <th></th>\n",
       "      <th>GeneName</th>\n",
       "      <th>UniprotID</th>\n",
       "    </tr>\n",
       "  </thead>\n",
       "  <tbody>\n",
       "    <tr>\n",
       "      <th>0</th>\n",
       "      <td>SCRIB</td>\n",
       "      <td>Q14160</td>\n",
       "    </tr>\n",
       "    <tr>\n",
       "      <th>1</th>\n",
       "      <td>KCNA5</td>\n",
       "      <td>P22460</td>\n",
       "    </tr>\n",
       "  </tbody>\n",
       "</table>\n",
       "</div>"
      ],
      "text/plain": [
       "  GeneName UniprotID\n",
       "0    SCRIB    Q14160\n",
       "1    KCNA5    P22460"
      ]
     },
     "execution_count": 13,
     "metadata": {},
     "output_type": "execute_result"
    }
   ],
   "source": [
    "ids = pd.concat([\n",
    "    apid[[f\"GeneName_{col}\", f\"UniprotID_{col}\"]].rename(columns={f\"GeneName_{col}\": \"GeneName\", f\"UniprotID_{col}\": \"UniprotID\"})\n",
    "    for col in [\"A\", \"B\"]\n",
    "]).drop_duplicates(ignore_index=True)\n",
    "\n",
    "print(len(ids))\n",
    "ids.head(2)"
   ]
  },
  {
   "cell_type": "code",
   "execution_count": 14,
   "metadata": {},
   "outputs": [
    {
     "name": "stdout",
     "output_type": "stream",
     "text": [
      "17817\n",
      "17817\n"
     ]
    }
   ],
   "source": [
    "hgnc_map = (ids\n",
    "            .merge(genesymbols, how=\"left\", left_on=\"GeneName\", right_on=\"symbol\")\n",
    "            .merge(uniprot_ids, how=\"left\", left_on=\"UniprotID\", right_index=True, suffixes=[\"_1\", \"_2\"])\n",
    "            .merge(prev_symbols, how=\"left\", left_on=\"GeneName\", right_index=True)\n",
    "           )\n",
    "\n",
    "# select mappings in order\n",
    "hgnc_map = pd.concat([\n",
    "    hgnc_map[[\"GeneName\", \"UniprotID\", \"symbol_1\"]].dropna(subset=\"symbol_1\").rename(columns={\"symbol_1\": \"symbol\"}),\n",
    "    hgnc_map.loc[hgnc_map.symbol_1.isna(), [\"GeneName\", \"UniprotID\", \"symbol_2\"]].dropna(subset=\"symbol_2\").rename(columns={\"symbol_2\": \"symbol\"}),\n",
    "    hgnc_map.loc[(hgnc_map.symbol_1.isna())&(hgnc_map.symbol_2.isna()), [\"GeneName\", \"UniprotID\", \"symbol\"]].dropna()\n",
    "]).set_index(\"UniprotID\").symbol\n",
    "\n",
    "print(len(hgnc_map))\n",
    "print(len(hgnc_map.index.drop_duplicates()))"
   ]
  },
  {
   "cell_type": "code",
   "execution_count": 15,
   "metadata": {},
   "outputs": [
    {
     "name": "stdout",
     "output_type": "stream",
     "text": [
      "262291\n"
     ]
    },
    {
     "data": {
      "text/html": [
       "<div>\n",
       "<style scoped>\n",
       "    .dataframe tbody tr th:only-of-type {\n",
       "        vertical-align: middle;\n",
       "    }\n",
       "\n",
       "    .dataframe tbody tr th {\n",
       "        vertical-align: top;\n",
       "    }\n",
       "\n",
       "    .dataframe thead th {\n",
       "        text-align: right;\n",
       "    }\n",
       "</style>\n",
       "<table border=\"1\" class=\"dataframe\">\n",
       "  <thead>\n",
       "    <tr style=\"text-align: right;\">\n",
       "      <th></th>\n",
       "      <th>protein_A</th>\n",
       "      <th>protein_B</th>\n",
       "    </tr>\n",
       "  </thead>\n",
       "  <tbody>\n",
       "    <tr>\n",
       "      <th>1</th>\n",
       "      <td>SCRIB</td>\n",
       "      <td>ARHGEF7</td>\n",
       "    </tr>\n",
       "    <tr>\n",
       "      <th>2</th>\n",
       "      <td>SCRIB</td>\n",
       "      <td>NET1</td>\n",
       "    </tr>\n",
       "  </tbody>\n",
       "</table>\n",
       "</div>"
      ],
      "text/plain": [
       "  protein_A protein_B\n",
       "1     SCRIB   ARHGEF7\n",
       "2     SCRIB      NET1"
      ]
     },
     "execution_count": 15,
     "metadata": {},
     "output_type": "execute_result"
    }
   ],
   "source": [
    "# Uniprot IDs are unique and so can be used to merge symbols with graph\n",
    "apid_graph = (apid[[\"UniprotID_A\", \"UniprotID_B\"]]\n",
    "              .merge(hgnc_map, left_on=\"UniprotID_A\", right_index=True)\n",
    "              .merge(hgnc_map, left_on=\"UniprotID_B\", right_index=True, suffixes=[\"_A\", \"_B\"])\n",
    "              [[\"symbol_A\", \"symbol_B\"]].rename(columns={\"symbol_A\": \"protein_A\", \"symbol_B\": \"protein_B\"})\n",
    "             ).drop_duplicates()\n",
    "print(len(apid_graph))\n",
    "apid_graph.head(2)"
   ]
  },
  {
   "cell_type": "code",
   "execution_count": 16,
   "metadata": {},
   "outputs": [
    {
     "name": "stdout",
     "output_type": "stream",
     "text": [
      "Proteins in column A: 14354\n",
      "Proteins in column B: 15915\n",
      "Number of proteins (nodes): 16994\n",
      "Number of interactions (edges): 262291\n"
     ]
    }
   ],
   "source": [
    "# Mostrar os resultados\n",
    "genelist = set()\n",
    "for col in apid_graph.columns:\n",
    "    genes = apid_graph[col].unique().tolist()\n",
    "    print(f\"Proteins in column {col.split('_')[1]}: {len(genes)}\")\n",
    "    genelist |= set(genes)\n",
    "\n",
    "print(f\"Number of proteins (nodes): {len(genelist)}\")\n",
    "print(f\"Number of interactions (edges): {len(apid_graph)}\")"
   ]
  },
  {
   "cell_type": "code",
   "execution_count": 17,
   "metadata": {},
   "outputs": [],
   "source": [
    "apid_graph.to_csv(datadir+\"apid_graph.csv\", index=False)"
   ]
  },
  {
   "cell_type": "markdown",
   "metadata": {
    "jp-MarkdownHeadingCollapsed": true
   },
   "source": [
    "# Biogrid"
   ]
  },
  {
   "cell_type": "code",
   "execution_count": 18,
   "metadata": {},
   "outputs": [
    {
     "data": {
      "text/html": [
       "<div>\n",
       "<style scoped>\n",
       "    .dataframe tbody tr th:only-of-type {\n",
       "        vertical-align: middle;\n",
       "    }\n",
       "\n",
       "    .dataframe tbody tr th {\n",
       "        vertical-align: top;\n",
       "    }\n",
       "\n",
       "    .dataframe thead th {\n",
       "        text-align: right;\n",
       "    }\n",
       "</style>\n",
       "<table border=\"1\" class=\"dataframe\">\n",
       "  <thead>\n",
       "    <tr style=\"text-align: right;\">\n",
       "      <th></th>\n",
       "      <th>#BioGRID Interaction ID</th>\n",
       "      <th>Entrez Gene Interactor A</th>\n",
       "      <th>Entrez Gene Interactor B</th>\n",
       "      <th>BioGRID ID Interactor A</th>\n",
       "      <th>BioGRID ID Interactor B</th>\n",
       "      <th>Systematic Name Interactor A</th>\n",
       "      <th>Systematic Name Interactor B</th>\n",
       "      <th>Official Symbol Interactor A</th>\n",
       "      <th>Official Symbol Interactor B</th>\n",
       "      <th>Synonyms Interactor A</th>\n",
       "      <th>...</th>\n",
       "      <th>TREMBL Accessions Interactor B</th>\n",
       "      <th>REFSEQ Accessions Interactor B</th>\n",
       "      <th>Ontology Term IDs</th>\n",
       "      <th>Ontology Term Names</th>\n",
       "      <th>Ontology Term Categories</th>\n",
       "      <th>Ontology Term Qualifier IDs</th>\n",
       "      <th>Ontology Term Qualifier Names</th>\n",
       "      <th>Ontology Term Types</th>\n",
       "      <th>Organism Name Interactor A</th>\n",
       "      <th>Organism Name Interactor B</th>\n",
       "    </tr>\n",
       "  </thead>\n",
       "  <tbody>\n",
       "    <tr>\n",
       "      <th>0</th>\n",
       "      <td>103</td>\n",
       "      <td>6416</td>\n",
       "      <td>2318</td>\n",
       "      <td>112315</td>\n",
       "      <td>108607</td>\n",
       "      <td>-</td>\n",
       "      <td>-</td>\n",
       "      <td>MAP2K4</td>\n",
       "      <td>FLNC</td>\n",
       "      <td>JNKK|JNKK1|MAPKK4|MEK4|MKK4|PRKMK4|SAPKK-1|SAP...</td>\n",
       "      <td>...</td>\n",
       "      <td>Q59H94</td>\n",
       "      <td>NP_001120959|NP_001449</td>\n",
       "      <td>-</td>\n",
       "      <td>-</td>\n",
       "      <td>-</td>\n",
       "      <td>-</td>\n",
       "      <td>-</td>\n",
       "      <td>-</td>\n",
       "      <td>Homo sapiens</td>\n",
       "      <td>Homo sapiens</td>\n",
       "    </tr>\n",
       "    <tr>\n",
       "      <th>1</th>\n",
       "      <td>117</td>\n",
       "      <td>84665</td>\n",
       "      <td>88</td>\n",
       "      <td>124185</td>\n",
       "      <td>106603</td>\n",
       "      <td>-</td>\n",
       "      <td>-</td>\n",
       "      <td>MYPN</td>\n",
       "      <td>ACTN2</td>\n",
       "      <td>CMD1DD|CMH22|MYOP|RCM4</td>\n",
       "      <td>...</td>\n",
       "      <td>Q59FD9|F6THM6</td>\n",
       "      <td>NP_001094|NP_001265272|NP_001265273</td>\n",
       "      <td>-</td>\n",
       "      <td>-</td>\n",
       "      <td>-</td>\n",
       "      <td>-</td>\n",
       "      <td>-</td>\n",
       "      <td>-</td>\n",
       "      <td>Homo sapiens</td>\n",
       "      <td>Homo sapiens</td>\n",
       "    </tr>\n",
       "  </tbody>\n",
       "</table>\n",
       "<p>2 rows × 37 columns</p>\n",
       "</div>"
      ],
      "text/plain": [
       "  #BioGRID Interaction ID Entrez Gene Interactor A Entrez Gene Interactor B  \\\n",
       "0                     103                     6416                     2318   \n",
       "1                     117                    84665                       88   \n",
       "\n",
       "  BioGRID ID Interactor A BioGRID ID Interactor B  \\\n",
       "0                  112315                  108607   \n",
       "1                  124185                  106603   \n",
       "\n",
       "  Systematic Name Interactor A Systematic Name Interactor B  \\\n",
       "0                            -                            -   \n",
       "1                            -                            -   \n",
       "\n",
       "  Official Symbol Interactor A Official Symbol Interactor B  \\\n",
       "0                       MAP2K4                         FLNC   \n",
       "1                         MYPN                        ACTN2   \n",
       "\n",
       "                               Synonyms Interactor A  ...  \\\n",
       "0  JNKK|JNKK1|MAPKK4|MEK4|MKK4|PRKMK4|SAPKK-1|SAP...  ...   \n",
       "1                             CMD1DD|CMH22|MYOP|RCM4  ...   \n",
       "\n",
       "  TREMBL Accessions Interactor B       REFSEQ Accessions Interactor B  \\\n",
       "0                         Q59H94               NP_001120959|NP_001449   \n",
       "1                  Q59FD9|F6THM6  NP_001094|NP_001265272|NP_001265273   \n",
       "\n",
       "  Ontology Term IDs Ontology Term Names Ontology Term Categories  \\\n",
       "0                 -                   -                        -   \n",
       "1                 -                   -                        -   \n",
       "\n",
       "  Ontology Term Qualifier IDs Ontology Term Qualifier Names  \\\n",
       "0                           -                             -   \n",
       "1                           -                             -   \n",
       "\n",
       "  Ontology Term Types Organism Name Interactor A Organism Name Interactor B  \n",
       "0                   -               Homo sapiens               Homo sapiens  \n",
       "1                   -               Homo sapiens               Homo sapiens  \n",
       "\n",
       "[2 rows x 37 columns]"
      ]
     },
     "execution_count": 18,
     "metadata": {},
     "output_type": "execute_result"
    }
   ],
   "source": [
    "biogrid = pd.read_table('BIOGRID-ORGANISM-Homo_sapiens-4.4.225.tab3.txt', dtype=\"str\")\n",
    "biogrid.head(2)"
   ]
  },
  {
   "cell_type": "code",
   "execution_count": 19,
   "metadata": {},
   "outputs": [
    {
     "data": {
      "text/html": [
       "<div>\n",
       "<style scoped>\n",
       "    .dataframe tbody tr th:only-of-type {\n",
       "        vertical-align: middle;\n",
       "    }\n",
       "\n",
       "    .dataframe tbody tr th {\n",
       "        vertical-align: top;\n",
       "    }\n",
       "\n",
       "    .dataframe thead th {\n",
       "        text-align: right;\n",
       "    }\n",
       "</style>\n",
       "<table border=\"1\" class=\"dataframe\">\n",
       "  <thead>\n",
       "    <tr style=\"text-align: right;\">\n",
       "      <th></th>\n",
       "      <th>Entrez Gene Interactor A</th>\n",
       "      <th>BioGRID ID Interactor A</th>\n",
       "      <th>Systematic Name Interactor A</th>\n",
       "      <th>Official Symbol Interactor A</th>\n",
       "      <th>Synonyms Interactor A</th>\n",
       "      <th>Organism ID Interactor A</th>\n",
       "      <th>SWISS-PROT Accessions Interactor A</th>\n",
       "      <th>TREMBL Accessions Interactor A</th>\n",
       "      <th>REFSEQ Accessions Interactor A</th>\n",
       "      <th>Organism Name Interactor A</th>\n",
       "    </tr>\n",
       "  </thead>\n",
       "  <tbody>\n",
       "    <tr>\n",
       "      <th>0</th>\n",
       "      <td>6416</td>\n",
       "      <td>112315</td>\n",
       "      <td>-</td>\n",
       "      <td>MAP2K4</td>\n",
       "      <td>JNKK|JNKK1|MAPKK4|MEK4|MKK4|PRKMK4|SAPKK-1|SAP...</td>\n",
       "      <td>9606</td>\n",
       "      <td>P45985</td>\n",
       "      <td>-</td>\n",
       "      <td>NP_003001|NP_001268364</td>\n",
       "      <td>Homo sapiens</td>\n",
       "    </tr>\n",
       "    <tr>\n",
       "      <th>1</th>\n",
       "      <td>84665</td>\n",
       "      <td>124185</td>\n",
       "      <td>-</td>\n",
       "      <td>MYPN</td>\n",
       "      <td>CMD1DD|CMH22|MYOP|RCM4</td>\n",
       "      <td>9606</td>\n",
       "      <td>Q86TC9</td>\n",
       "      <td>A0A087WX60</td>\n",
       "      <td>NP_001243197|NP_001243196|NP_115967</td>\n",
       "      <td>Homo sapiens</td>\n",
       "    </tr>\n",
       "  </tbody>\n",
       "</table>\n",
       "</div>"
      ],
      "text/plain": [
       "  Entrez Gene Interactor A BioGRID ID Interactor A  \\\n",
       "0                     6416                  112315   \n",
       "1                    84665                  124185   \n",
       "\n",
       "  Systematic Name Interactor A Official Symbol Interactor A  \\\n",
       "0                            -                       MAP2K4   \n",
       "1                            -                         MYPN   \n",
       "\n",
       "                               Synonyms Interactor A Organism ID Interactor A  \\\n",
       "0  JNKK|JNKK1|MAPKK4|MEK4|MKK4|PRKMK4|SAPKK-1|SAP...                     9606   \n",
       "1                             CMD1DD|CMH22|MYOP|RCM4                     9606   \n",
       "\n",
       "  SWISS-PROT Accessions Interactor A TREMBL Accessions Interactor A  \\\n",
       "0                             P45985                              -   \n",
       "1                             Q86TC9                     A0A087WX60   \n",
       "\n",
       "        REFSEQ Accessions Interactor A Organism Name Interactor A  \n",
       "0               NP_003001|NP_001268364               Homo sapiens  \n",
       "1  NP_001243197|NP_001243196|NP_115967               Homo sapiens  "
      ]
     },
     "execution_count": 19,
     "metadata": {},
     "output_type": "execute_result"
    }
   ],
   "source": [
    "# interactor ID columns\n",
    "biogrid.loc[:, biogrid.columns.str.contains(\"Interactor A\")].head(2)"
   ]
  },
  {
   "cell_type": "code",
   "execution_count": 20,
   "metadata": {},
   "outputs": [
    {
     "data": {
      "text/html": [
       "<div>\n",
       "<style scoped>\n",
       "    .dataframe tbody tr th:only-of-type {\n",
       "        vertical-align: middle;\n",
       "    }\n",
       "\n",
       "    .dataframe tbody tr th {\n",
       "        vertical-align: top;\n",
       "    }\n",
       "\n",
       "    .dataframe thead th {\n",
       "        text-align: right;\n",
       "    }\n",
       "</style>\n",
       "<table border=\"1\" class=\"dataframe\">\n",
       "  <thead>\n",
       "    <tr style=\"text-align: right;\">\n",
       "      <th></th>\n",
       "      <th>genesymbol_A</th>\n",
       "      <th>genesymbol_B</th>\n",
       "      <th>uniprotid_A</th>\n",
       "      <th>uniprotid_B</th>\n",
       "    </tr>\n",
       "  </thead>\n",
       "  <tbody>\n",
       "    <tr>\n",
       "      <th>0</th>\n",
       "      <td>MAP2K4</td>\n",
       "      <td>FLNC</td>\n",
       "      <td>P45985</td>\n",
       "      <td>Q14315</td>\n",
       "    </tr>\n",
       "    <tr>\n",
       "      <th>1</th>\n",
       "      <td>MYPN</td>\n",
       "      <td>ACTN2</td>\n",
       "      <td>Q86TC9</td>\n",
       "      <td>P35609</td>\n",
       "    </tr>\n",
       "    <tr>\n",
       "      <th>2</th>\n",
       "      <td>ACVR1</td>\n",
       "      <td>FNTA</td>\n",
       "      <td>Q04771</td>\n",
       "      <td>P49354</td>\n",
       "    </tr>\n",
       "    <tr>\n",
       "      <th>3</th>\n",
       "      <td>GATA2</td>\n",
       "      <td>PML</td>\n",
       "      <td>P23769</td>\n",
       "      <td>P29590</td>\n",
       "    </tr>\n",
       "    <tr>\n",
       "      <th>4</th>\n",
       "      <td>RPA2</td>\n",
       "      <td>STAT3</td>\n",
       "      <td>P15927</td>\n",
       "      <td>P40763</td>\n",
       "    </tr>\n",
       "  </tbody>\n",
       "</table>\n",
       "</div>"
      ],
      "text/plain": [
       "  genesymbol_A genesymbol_B uniprotid_A uniprotid_B\n",
       "0       MAP2K4         FLNC      P45985      Q14315\n",
       "1         MYPN        ACTN2      Q86TC9      P35609\n",
       "2        ACVR1         FNTA      Q04771      P49354\n",
       "3        GATA2          PML      P23769      P29590\n",
       "4         RPA2        STAT3      P15927      P40763"
      ]
     },
     "execution_count": 20,
     "metadata": {},
     "output_type": "execute_result"
    }
   ],
   "source": [
    "biogrid_cols = biogrid.loc[:,\n",
    "    biogrid.columns.str.contains(\"Official Symbol Interactor\")|\n",
    "    biogrid.columns.str.contains(\"SWISS-PROT Accessions Interactor\")\n",
    "].rename(columns={\n",
    "    \"Official Symbol Interactor A\": \"genesymbol_A\",\n",
    "    \"Official Symbol Interactor B\": \"genesymbol_B\",\n",
    "    \"SWISS-PROT Accessions Interactor A\": \"uniprotid_A\",\n",
    "    \"SWISS-PROT Accessions Interactor B\": \"uniprotid_B\",\n",
    "})\n",
    "biogrid_cols.head()"
   ]
  },
  {
   "cell_type": "code",
   "execution_count": 21,
   "metadata": {},
   "outputs": [
    {
     "name": "stdout",
     "output_type": "stream",
     "text": [
      "27965\n"
     ]
    },
    {
     "data": {
      "text/html": [
       "<div>\n",
       "<style scoped>\n",
       "    .dataframe tbody tr th:only-of-type {\n",
       "        vertical-align: middle;\n",
       "    }\n",
       "\n",
       "    .dataframe tbody tr th {\n",
       "        vertical-align: top;\n",
       "    }\n",
       "\n",
       "    .dataframe thead th {\n",
       "        text-align: right;\n",
       "    }\n",
       "</style>\n",
       "<table border=\"1\" class=\"dataframe\">\n",
       "  <thead>\n",
       "    <tr style=\"text-align: right;\">\n",
       "      <th></th>\n",
       "      <th>GeneName</th>\n",
       "      <th>UniprotID</th>\n",
       "    </tr>\n",
       "  </thead>\n",
       "  <tbody>\n",
       "    <tr>\n",
       "      <th>0</th>\n",
       "      <td>MAP2K4</td>\n",
       "      <td>P45985</td>\n",
       "    </tr>\n",
       "    <tr>\n",
       "      <th>1</th>\n",
       "      <td>MYPN</td>\n",
       "      <td>Q86TC9</td>\n",
       "    </tr>\n",
       "  </tbody>\n",
       "</table>\n",
       "</div>"
      ],
      "text/plain": [
       "  GeneName UniprotID\n",
       "0   MAP2K4    P45985\n",
       "1     MYPN    Q86TC9"
      ]
     },
     "execution_count": 21,
     "metadata": {},
     "output_type": "execute_result"
    }
   ],
   "source": [
    "ids = pd.concat([\n",
    "    (biogrid_cols[[f\"genesymbol_{col}\", f\"uniprotid_{col}\"]]\n",
    "     .rename(columns={f\"genesymbol_{col}\": \"GeneName\", f\"uniprotid_{col}\": \"UniprotID\"})\n",
    "    ) for col in [\"A\", \"B\"]\n",
    "]).drop_duplicates(ignore_index=True)\n",
    "\n",
    "print(len(ids))\n",
    "ids.head(2)"
   ]
  },
  {
   "cell_type": "code",
   "execution_count": 22,
   "metadata": {},
   "outputs": [
    {
     "name": "stdout",
     "output_type": "stream",
     "text": [
      "20341\n",
      "20341\n"
     ]
    },
    {
     "data": {
      "text/plain": [
       "GeneName  UniprotID\n",
       "MAP2K4    P45985       MAP2K4\n",
       "MYPN      Q86TC9         MYPN\n",
       "Name: symbol, dtype: string"
      ]
     },
     "execution_count": 22,
     "metadata": {},
     "output_type": "execute_result"
    }
   ],
   "source": [
    "hgnc_map = (ids\n",
    "            .merge(genesymbols, how=\"left\", left_on=\"GeneName\", right_on=\"symbol\")\n",
    "            .merge(uniprot_ids, how=\"left\", left_on=\"UniprotID\", right_index=True, suffixes=[\"_1\", \"_2\"])\n",
    "            .merge(prev_symbols, how=\"left\", left_on=\"GeneName\", right_index=True)\n",
    "           )\n",
    "\n",
    "# select mappings in order\n",
    "hgnc_map = pd.concat([\n",
    "    hgnc_map[[\"GeneName\", \"UniprotID\", \"symbol_1\"]].dropna(subset=\"symbol_1\").rename(columns={\"symbol_1\": \"symbol\"}),\n",
    "    hgnc_map.loc[hgnc_map.symbol_1.isna(), [\"GeneName\", \"UniprotID\", \"symbol_2\"]].dropna(subset=\"symbol_2\").rename(columns={\"symbol_2\": \"symbol\"}),\n",
    "    hgnc_map.loc[(hgnc_map.symbol_1.isna())&(hgnc_map.symbol_2.isna()), [\"GeneName\", \"UniprotID\", \"symbol\"]].dropna()\n",
    "]).set_index([\"GeneName\", \"UniprotID\"]).symbol\n",
    "\n",
    "print(len(hgnc_map))\n",
    "print(len(hgnc_map.index.drop_duplicates()))\n",
    "hgnc_map.head(2)"
   ]
  },
  {
   "cell_type": "code",
   "execution_count": 23,
   "metadata": {},
   "outputs": [
    {
     "name": "stdout",
     "output_type": "stream",
     "text": [
      "868997\n"
     ]
    },
    {
     "data": {
      "text/html": [
       "<div>\n",
       "<style scoped>\n",
       "    .dataframe tbody tr th:only-of-type {\n",
       "        vertical-align: middle;\n",
       "    }\n",
       "\n",
       "    .dataframe tbody tr th {\n",
       "        vertical-align: top;\n",
       "    }\n",
       "\n",
       "    .dataframe thead th {\n",
       "        text-align: right;\n",
       "    }\n",
       "</style>\n",
       "<table border=\"1\" class=\"dataframe\">\n",
       "  <thead>\n",
       "    <tr style=\"text-align: right;\">\n",
       "      <th></th>\n",
       "      <th>protein_A</th>\n",
       "      <th>protein_B</th>\n",
       "    </tr>\n",
       "  </thead>\n",
       "  <tbody>\n",
       "    <tr>\n",
       "      <th>0</th>\n",
       "      <td>MAP2K4</td>\n",
       "      <td>FLNC</td>\n",
       "    </tr>\n",
       "    <tr>\n",
       "      <th>1</th>\n",
       "      <td>MYPN</td>\n",
       "      <td>ACTN2</td>\n",
       "    </tr>\n",
       "  </tbody>\n",
       "</table>\n",
       "</div>"
      ],
      "text/plain": [
       "  protein_A protein_B\n",
       "0    MAP2K4      FLNC\n",
       "1      MYPN     ACTN2"
      ]
     },
     "execution_count": 23,
     "metadata": {},
     "output_type": "execute_result"
    }
   ],
   "source": [
    "# Uniprot IDs are unique and so can be used to merge symbols with graph\n",
    "biogrid_graph = (biogrid_cols\n",
    "                 .merge(hgnc_map, left_on=[\"genesymbol_A\", \"uniprotid_A\"], right_index=True)\n",
    "                 .merge(hgnc_map, left_on=[\"genesymbol_B\", \"uniprotid_B\"], right_index=True, suffixes=[\"_A\", \"_B\"])\n",
    "                 [[\"symbol_A\", \"symbol_B\"]].rename(columns={\"symbol_A\": \"protein_A\", \"symbol_B\": \"protein_B\"})\n",
    "                ).drop_duplicates()\n",
    "print(len(biogrid_graph))\n",
    "biogrid_graph.head(2)"
   ]
  },
  {
   "cell_type": "code",
   "execution_count": 24,
   "metadata": {},
   "outputs": [
    {
     "name": "stdout",
     "output_type": "stream",
     "text": [
      "Proteins in column A: 16391\n",
      "Proteins in column B: 19021\n",
      "Number of proteins (nodes): 19694\n",
      "Number of interactions (edges): 868997\n"
     ]
    }
   ],
   "source": [
    "# Mostrar os resultados\n",
    "genelist = set()\n",
    "for col in biogrid_graph.columns:\n",
    "    genes = biogrid_graph[col].unique().tolist()\n",
    "    print(f\"Proteins in column {col.split('_')[1]}: {len(genes)}\")\n",
    "    genelist |= set(genes)\n",
    "\n",
    "print(f\"Number of proteins (nodes): {len(genelist)}\")\n",
    "print(f\"Number of interactions (edges): {len(biogrid_graph)}\")"
   ]
  },
  {
   "cell_type": "code",
   "execution_count": 25,
   "metadata": {},
   "outputs": [],
   "source": [
    "biogrid_graph.to_csv(datadir+'biogrid_graph.csv', index=False)"
   ]
  },
  {
   "cell_type": "markdown",
   "metadata": {},
   "source": [
    "# String"
   ]
  },
  {
   "cell_type": "code",
   "execution_count": 26,
   "metadata": {},
   "outputs": [
    {
     "name": "stdout",
     "output_type": "stream",
     "text": [
      "414048\n"
     ]
    },
    {
     "data": {
      "text/html": [
       "<div>\n",
       "<style scoped>\n",
       "    .dataframe tbody tr th:only-of-type {\n",
       "        vertical-align: middle;\n",
       "    }\n",
       "\n",
       "    .dataframe tbody tr th {\n",
       "        vertical-align: top;\n",
       "    }\n",
       "\n",
       "    .dataframe thead th {\n",
       "        text-align: right;\n",
       "    }\n",
       "</style>\n",
       "<table border=\"1\" class=\"dataframe\">\n",
       "  <thead>\n",
       "    <tr style=\"text-align: right;\">\n",
       "      <th></th>\n",
       "      <th>protein1</th>\n",
       "      <th>protein2</th>\n",
       "      <th>combined_score</th>\n",
       "    </tr>\n",
       "  </thead>\n",
       "  <tbody>\n",
       "    <tr>\n",
       "      <th>2</th>\n",
       "      <td>9606.ENSP00000000233</td>\n",
       "      <td>9606.ENSP00000434442</td>\n",
       "      <td>499</td>\n",
       "    </tr>\n",
       "    <tr>\n",
       "      <th>3</th>\n",
       "      <td>9606.ENSP00000000233</td>\n",
       "      <td>9606.ENSP00000262455</td>\n",
       "      <td>531</td>\n",
       "    </tr>\n",
       "    <tr>\n",
       "      <th>4</th>\n",
       "      <td>9606.ENSP00000000233</td>\n",
       "      <td>9606.ENSP00000303145</td>\n",
       "      <td>499</td>\n",
       "    </tr>\n",
       "    <tr>\n",
       "      <th>10</th>\n",
       "      <td>9606.ENSP00000000233</td>\n",
       "      <td>9606.ENSP00000249923</td>\n",
       "      <td>565</td>\n",
       "    </tr>\n",
       "    <tr>\n",
       "      <th>14</th>\n",
       "      <td>9606.ENSP00000000233</td>\n",
       "      <td>9606.ENSP00000264028</td>\n",
       "      <td>554</td>\n",
       "    </tr>\n",
       "  </tbody>\n",
       "</table>\n",
       "</div>"
      ],
      "text/plain": [
       "                protein1              protein2  combined_score\n",
       "2   9606.ENSP00000000233  9606.ENSP00000434442             499\n",
       "3   9606.ENSP00000000233  9606.ENSP00000262455             531\n",
       "4   9606.ENSP00000000233  9606.ENSP00000303145             499\n",
       "10  9606.ENSP00000000233  9606.ENSP00000249923             565\n",
       "14  9606.ENSP00000000233  9606.ENSP00000264028             554"
      ]
     },
     "execution_count": 26,
     "metadata": {},
     "output_type": "execute_result"
    }
   ],
   "source": [
    "string_phys_ppi = pd.read_csv(\"9606.protein.physical.links.v12.0.txt\", sep=\" \")\n",
    "string_phys_ppi = string_phys_ppi[string_phys_ppi['combined_score'] > 400]\n",
    "print(len(string_phys_ppi))\n",
    "string_phys_ppi.head()"
   ]
  },
  {
   "cell_type": "code",
   "execution_count": 27,
   "metadata": {},
   "outputs": [
    {
     "data": {
      "text/html": [
       "<div>\n",
       "<style scoped>\n",
       "    .dataframe tbody tr th:only-of-type {\n",
       "        vertical-align: middle;\n",
       "    }\n",
       "\n",
       "    .dataframe tbody tr th {\n",
       "        vertical-align: top;\n",
       "    }\n",
       "\n",
       "    .dataframe thead th {\n",
       "        text-align: right;\n",
       "    }\n",
       "</style>\n",
       "<table border=\"1\" class=\"dataframe\">\n",
       "  <thead>\n",
       "    <tr style=\"text-align: right;\">\n",
       "      <th></th>\n",
       "      <th>#string_protein_id</th>\n",
       "      <th>alias</th>\n",
       "      <th>source</th>\n",
       "    </tr>\n",
       "  </thead>\n",
       "  <tbody>\n",
       "    <tr>\n",
       "      <th>0</th>\n",
       "      <td>9606.ENSP00000000233</td>\n",
       "      <td>2B6H</td>\n",
       "      <td>Ensembl_PDB</td>\n",
       "    </tr>\n",
       "    <tr>\n",
       "      <th>1</th>\n",
       "      <td>9606.ENSP00000000233</td>\n",
       "      <td>2B6H</td>\n",
       "      <td>UniProt_DR_PDB</td>\n",
       "    </tr>\n",
       "  </tbody>\n",
       "</table>\n",
       "</div>"
      ],
      "text/plain": [
       "     #string_protein_id alias          source\n",
       "0  9606.ENSP00000000233  2B6H     Ensembl_PDB\n",
       "1  9606.ENSP00000000233  2B6H  UniProt_DR_PDB"
      ]
     },
     "execution_count": 27,
     "metadata": {},
     "output_type": "execute_result"
    }
   ],
   "source": [
    "# STRING provides an ID mapping table between Ensembl protein IDs and HGNC gene symbols\n",
    "string_aliases = pd.read_table(\"9606.protein.aliases.v12.0.txt\")\n",
    "string_aliases.head(2)"
   ]
  },
  {
   "cell_type": "code",
   "execution_count": 28,
   "metadata": {},
   "outputs": [
    {
     "name": "stdout",
     "output_type": "stream",
     "text": [
      "15773\n"
     ]
    }
   ],
   "source": [
    "string_ids = pd.concat([string_phys_ppi.protein1, string_phys_ppi.protein2]).drop_duplicates(ignore_index=True).rename(\"string_ids\")\n",
    "print(len(string_ids))"
   ]
  },
  {
   "cell_type": "code",
   "execution_count": 29,
   "metadata": {},
   "outputs": [],
   "source": [
    "# we could use hgnc_ids, which are also available\n",
    "#hgnc_ids = string_aliases.loc[string_aliases.source==\"Ensembl_HGNC_hgnc_id\", [\"#string_protein_id\", \"alias\"]]\n",
    "#print(len(hgnc_ids))\n",
    "#hgnc_ids.head(2)"
   ]
  },
  {
   "cell_type": "code",
   "execution_count": 30,
   "metadata": {},
   "outputs": [
    {
     "name": "stdout",
     "output_type": "stream",
     "text": [
      "19200\n"
     ]
    },
    {
     "data": {
      "text/html": [
       "<div>\n",
       "<style scoped>\n",
       "    .dataframe tbody tr th:only-of-type {\n",
       "        vertical-align: middle;\n",
       "    }\n",
       "\n",
       "    .dataframe tbody tr th {\n",
       "        vertical-align: top;\n",
       "    }\n",
       "\n",
       "    .dataframe thead th {\n",
       "        text-align: right;\n",
       "    }\n",
       "</style>\n",
       "<table border=\"1\" class=\"dataframe\">\n",
       "  <thead>\n",
       "    <tr style=\"text-align: right;\">\n",
       "      <th></th>\n",
       "      <th>#string_protein_id</th>\n",
       "      <th>alias</th>\n",
       "    </tr>\n",
       "  </thead>\n",
       "  <tbody>\n",
       "    <tr>\n",
       "      <th>49</th>\n",
       "      <td>9606.ENSP00000000233</td>\n",
       "      <td>ENSG00000004059</td>\n",
       "    </tr>\n",
       "    <tr>\n",
       "      <th>154</th>\n",
       "      <td>9606.ENSP00000000412</td>\n",
       "      <td>ENSG00000003056</td>\n",
       "    </tr>\n",
       "  </tbody>\n",
       "</table>\n",
       "</div>"
      ],
      "text/plain": [
       "       #string_protein_id            alias\n",
       "49   9606.ENSP00000000233  ENSG00000004059\n",
       "154  9606.ENSP00000000412  ENSG00000003056"
      ]
     },
     "execution_count": 30,
     "metadata": {},
     "output_type": "execute_result"
    }
   ],
   "source": [
    "ensembl_string_ids = string_aliases.loc[string_aliases.source==\"Ensembl_HGNC_ensembl_gene_id\", [\"#string_protein_id\", \"alias\"]]\n",
    "print(len(ensembl_string_ids))\n",
    "ensembl_string_ids.head(2)"
   ]
  },
  {
   "cell_type": "code",
   "execution_count": 31,
   "metadata": {},
   "outputs": [
    {
     "name": "stdout",
     "output_type": "stream",
     "text": [
      "15773\n",
      "15774\n"
     ]
    },
    {
     "data": {
      "text/html": [
       "<div>\n",
       "<style scoped>\n",
       "    .dataframe tbody tr th:only-of-type {\n",
       "        vertical-align: middle;\n",
       "    }\n",
       "\n",
       "    .dataframe tbody tr th {\n",
       "        vertical-align: top;\n",
       "    }\n",
       "\n",
       "    .dataframe thead th {\n",
       "        text-align: right;\n",
       "    }\n",
       "</style>\n",
       "<table border=\"1\" class=\"dataframe\">\n",
       "  <thead>\n",
       "    <tr style=\"text-align: right;\">\n",
       "      <th></th>\n",
       "      <th>symbol</th>\n",
       "      <th>string_ids</th>\n",
       "    </tr>\n",
       "  </thead>\n",
       "  <tbody>\n",
       "    <tr>\n",
       "      <th>14835</th>\n",
       "      <td>CCL3L3</td>\n",
       "      <td>9606.ENSP00000480558</td>\n",
       "    </tr>\n",
       "    <tr>\n",
       "      <th>14835</th>\n",
       "      <td>CCL3L1</td>\n",
       "      <td>9606.ENSP00000480558</td>\n",
       "    </tr>\n",
       "  </tbody>\n",
       "</table>\n",
       "</div>"
      ],
      "text/plain": [
       "       symbol            string_ids\n",
       "14835  CCL3L3  9606.ENSP00000480558\n",
       "14835  CCL3L1  9606.ENSP00000480558"
      ]
     },
     "execution_count": 31,
     "metadata": {},
     "output_type": "execute_result"
    }
   ],
   "source": [
    "print(len(string_ids))\n",
    "string_map = (ensembl_string_ids.set_index(\"alias\")\n",
    "              .merge(ensembl_ids, left_index=True, right_index=True)\n",
    "              .reset_index(drop=True)\n",
    "              .set_index(\"#string_protein_id\").merge(string_ids, left_index=True, right_on=\"string_ids\", how=\"right\")\n",
    "             )\n",
    "print(len(string_map))\n",
    "string_map[string_map.string_ids.duplicated(keep=False)]"
   ]
  },
  {
   "cell_type": "code",
   "execution_count": 32,
   "metadata": {},
   "outputs": [
    {
     "name": "stdout",
     "output_type": "stream",
     "text": [
      "231\n",
      "1\n"
     ]
    }
   ],
   "source": [
    "# unmapped ids\n",
    "unmapped = string_map.loc[string_map.symbol.isna(), \"string_ids\"].unique().tolist()\n",
    "print(len(unmapped))\n",
    "# duplicates\n",
    "dups = string_map.loc[string_map.string_ids.duplicated(keep=False), \"string_ids\"].unique().tolist()\n",
    "dups_index = string_map.index[string_map.string_ids.duplicated()]\n",
    "print(len(dups))"
   ]
  },
  {
   "cell_type": "code",
   "execution_count": 33,
   "metadata": {},
   "outputs": [
    {
     "name": "stdout",
     "output_type": "stream",
     "text": [
      "1\n"
     ]
    },
    {
     "data": {
      "text/html": [
       "<div>\n",
       "<style scoped>\n",
       "    .dataframe tbody tr th:only-of-type {\n",
       "        vertical-align: middle;\n",
       "    }\n",
       "\n",
       "    .dataframe tbody tr th {\n",
       "        vertical-align: top;\n",
       "    }\n",
       "\n",
       "    .dataframe thead th {\n",
       "        text-align: right;\n",
       "    }\n",
       "</style>\n",
       "<table border=\"1\" class=\"dataframe\">\n",
       "  <thead>\n",
       "    <tr style=\"text-align: right;\">\n",
       "      <th></th>\n",
       "      <th>string_ids</th>\n",
       "      <th>symbol</th>\n",
       "    </tr>\n",
       "  </thead>\n",
       "  <tbody>\n",
       "    <tr>\n",
       "      <th>0</th>\n",
       "      <td>9606.ENSP00000480558</td>\n",
       "      <td>CCL3L3</td>\n",
       "    </tr>\n",
       "  </tbody>\n",
       "</table>\n",
       "</div>"
      ],
      "text/plain": [
       "             string_ids  symbol\n",
       "0  9606.ENSP00000480558  CCL3L3"
      ]
     },
     "metadata": {},
     "output_type": "display_data"
    },
    {
     "name": "stdout",
     "output_type": "stream",
     "text": [
      "102\n"
     ]
    },
    {
     "data": {
      "text/html": [
       "<div>\n",
       "<style scoped>\n",
       "    .dataframe tbody tr th:only-of-type {\n",
       "        vertical-align: middle;\n",
       "    }\n",
       "\n",
       "    .dataframe tbody tr th {\n",
       "        vertical-align: top;\n",
       "    }\n",
       "\n",
       "    .dataframe thead th {\n",
       "        text-align: right;\n",
       "    }\n",
       "</style>\n",
       "<table border=\"1\" class=\"dataframe\">\n",
       "  <thead>\n",
       "    <tr style=\"text-align: right;\">\n",
       "      <th></th>\n",
       "      <th>string_ids</th>\n",
       "      <th>symbol</th>\n",
       "    </tr>\n",
       "  </thead>\n",
       "  <tbody>\n",
       "    <tr>\n",
       "      <th>0</th>\n",
       "      <td>9606.ENSP00000040584</td>\n",
       "      <td>HOXC8</td>\n",
       "    </tr>\n",
       "    <tr>\n",
       "      <th>1</th>\n",
       "      <td>9606.ENSP00000216487</td>\n",
       "      <td>RIN3</td>\n",
       "    </tr>\n",
       "  </tbody>\n",
       "</table>\n",
       "</div>"
      ],
      "text/plain": [
       "             string_ids symbol\n",
       "0  9606.ENSP00000040584  HOXC8\n",
       "1  9606.ENSP00000216487   RIN3"
      ]
     },
     "metadata": {},
     "output_type": "display_data"
    }
   ],
   "source": [
    "found_dups = string_protein_search(dups, hgnc)\n",
    "print(len(found_dups))\n",
    "display(found_dups.head(2))\n",
    "\n",
    "found_unmapped = string_protein_search(unmapped, hgnc)\n",
    "print(len(found_unmapped))\n",
    "display(found_unmapped.head(2))"
   ]
  },
  {
   "cell_type": "code",
   "execution_count": 34,
   "metadata": {},
   "outputs": [
    {
     "name": "stdout",
     "output_type": "stream",
     "text": [
      "15644\n"
     ]
    },
    {
     "data": {
      "text/html": [
       "<div>\n",
       "<style scoped>\n",
       "    .dataframe tbody tr th:only-of-type {\n",
       "        vertical-align: middle;\n",
       "    }\n",
       "\n",
       "    .dataframe tbody tr th {\n",
       "        vertical-align: top;\n",
       "    }\n",
       "\n",
       "    .dataframe thead th {\n",
       "        text-align: right;\n",
       "    }\n",
       "</style>\n",
       "<table border=\"1\" class=\"dataframe\">\n",
       "  <thead>\n",
       "    <tr style=\"text-align: right;\">\n",
       "      <th></th>\n",
       "      <th>symbol</th>\n",
       "      <th>string_ids</th>\n",
       "    </tr>\n",
       "  </thead>\n",
       "  <tbody>\n",
       "    <tr>\n",
       "      <th>0</th>\n",
       "      <td>ARF5</td>\n",
       "      <td>9606.ENSP00000000233</td>\n",
       "    </tr>\n",
       "    <tr>\n",
       "      <th>1</th>\n",
       "      <td>M6PR</td>\n",
       "      <td>9606.ENSP00000000412</td>\n",
       "    </tr>\n",
       "  </tbody>\n",
       "</table>\n",
       "</div>"
      ],
      "text/plain": [
       "  symbol            string_ids\n",
       "0   ARF5  9606.ENSP00000000233\n",
       "1   M6PR  9606.ENSP00000000412"
      ]
     },
     "execution_count": 34,
     "metadata": {},
     "output_type": "execute_result"
    }
   ],
   "source": [
    "string_map_full = pd.concat([string_map.dropna().drop(dups_index), found_dups, found_unmapped], ignore_index=True)\n",
    "print(len(string_map_full))\n",
    "string_map_full.head(2)"
   ]
  },
  {
   "cell_type": "code",
   "execution_count": 35,
   "metadata": {},
   "outputs": [
    {
     "name": "stdout",
     "output_type": "stream",
     "text": [
      "414048\n",
      "410424\n"
     ]
    },
    {
     "data": {
      "text/html": [
       "<div>\n",
       "<style scoped>\n",
       "    .dataframe tbody tr th:only-of-type {\n",
       "        vertical-align: middle;\n",
       "    }\n",
       "\n",
       "    .dataframe tbody tr th {\n",
       "        vertical-align: top;\n",
       "    }\n",
       "\n",
       "    .dataframe thead th {\n",
       "        text-align: right;\n",
       "    }\n",
       "</style>\n",
       "<table border=\"1\" class=\"dataframe\">\n",
       "  <thead>\n",
       "    <tr style=\"text-align: right;\">\n",
       "      <th></th>\n",
       "      <th>symbol_A</th>\n",
       "      <th>symbol_B</th>\n",
       "    </tr>\n",
       "  </thead>\n",
       "  <tbody>\n",
       "    <tr>\n",
       "      <th>0</th>\n",
       "      <td>ARF5</td>\n",
       "      <td>ARFGAP2</td>\n",
       "    </tr>\n",
       "    <tr>\n",
       "      <th>1</th>\n",
       "      <td>ARF5</td>\n",
       "      <td>ERP44</td>\n",
       "    </tr>\n",
       "  </tbody>\n",
       "</table>\n",
       "</div>"
      ],
      "text/plain": [
       "  symbol_A symbol_B\n",
       "0     ARF5  ARFGAP2\n",
       "1     ARF5    ERP44"
      ]
     },
     "execution_count": 35,
     "metadata": {},
     "output_type": "execute_result"
    }
   ],
   "source": [
    "print(len(string_phys_ppi))\n",
    "string_graph = (string_phys_ppi\n",
    "                .merge(string_map_full, left_on=\"protein1\", right_on=\"string_ids\")\n",
    "                .merge(string_map_full, left_on=\"protein2\", right_on=\"string_ids\", suffixes=[\"_A\", \"_B\"])\n",
    "                .dropna()\n",
    "                [[\"symbol_A\", \"symbol_B\"]]\n",
    "               )\n",
    "print(len(string_graph))\n",
    "string_graph.head(2)"
   ]
  },
  {
   "cell_type": "code",
   "execution_count": 36,
   "metadata": {},
   "outputs": [
    {
     "name": "stdout",
     "output_type": "stream",
     "text": [
      "Proteins in column A: 15632\n",
      "Proteins in column B: 15632\n",
      "Number of proteins (nodes): 15632\n",
      "Number of interactions (edges): 410424\n"
     ]
    }
   ],
   "source": [
    "# Mostrar os resultados\n",
    "genelist = set()\n",
    "for col in string_graph.columns:\n",
    "    genes = string_graph[col].unique().tolist()\n",
    "    print(f\"Proteins in column {col.split('_')[1]}: {len(genes)}\")\n",
    "    genelist |= set(genes)\n",
    "\n",
    "print(f\"Number of proteins (nodes): {len(genelist)}\")\n",
    "print(f\"Number of interactions (edges): {len(string_graph)}\")"
   ]
  },
  {
   "cell_type": "code",
   "execution_count": 37,
   "metadata": {},
   "outputs": [],
   "source": [
    "string_graph.to_csv(datadir+'string_graph.csv', index=False)"
   ]
  },
  {
   "cell_type": "markdown",
   "metadata": {},
   "source": [
    "# Omnipath "
   ]
  },
  {
   "cell_type": "code",
   "execution_count": 38,
   "metadata": {},
   "outputs": [
    {
     "name": "stdout",
     "output_type": "stream",
     "text": [
      "134282\n"
     ]
    },
    {
     "data": {
      "text/html": [
       "<div>\n",
       "<style scoped>\n",
       "    .dataframe tbody tr th:only-of-type {\n",
       "        vertical-align: middle;\n",
       "    }\n",
       "\n",
       "    .dataframe tbody tr th {\n",
       "        vertical-align: top;\n",
       "    }\n",
       "\n",
       "    .dataframe thead th {\n",
       "        text-align: right;\n",
       "    }\n",
       "</style>\n",
       "<table border=\"1\" class=\"dataframe\">\n",
       "  <thead>\n",
       "    <tr style=\"text-align: right;\">\n",
       "      <th></th>\n",
       "      <th>source</th>\n",
       "      <th>target</th>\n",
       "      <th>source_genesymbol</th>\n",
       "      <th>target_genesymbol</th>\n",
       "      <th>is_directed</th>\n",
       "      <th>is_stimulation</th>\n",
       "      <th>is_inhibition</th>\n",
       "      <th>consensus_direction</th>\n",
       "      <th>consensus_stimulation</th>\n",
       "      <th>consensus_inhibition</th>\n",
       "      <th>curation_effort</th>\n",
       "      <th>references</th>\n",
       "      <th>sources</th>\n",
       "      <th>n_sources</th>\n",
       "      <th>n_primary_sources</th>\n",
       "      <th>n_references</th>\n",
       "      <th>references_stripped</th>\n",
       "    </tr>\n",
       "  </thead>\n",
       "  <tbody>\n",
       "    <tr>\n",
       "      <th>0</th>\n",
       "      <td>P0DP23</td>\n",
       "      <td>P48995</td>\n",
       "      <td>CALM1</td>\n",
       "      <td>TRPC1</td>\n",
       "      <td>True</td>\n",
       "      <td>False</td>\n",
       "      <td>True</td>\n",
       "      <td>True</td>\n",
       "      <td>False</td>\n",
       "      <td>True</td>\n",
       "      <td>3</td>\n",
       "      <td>TRIP:11290752;TRIP:11983166;TRIP:12601176</td>\n",
       "      <td>TRIP</td>\n",
       "      <td>1</td>\n",
       "      <td>1</td>\n",
       "      <td>3</td>\n",
       "      <td>11290752;11983166;12601176</td>\n",
       "    </tr>\n",
       "    <tr>\n",
       "      <th>1</th>\n",
       "      <td>P0DP25</td>\n",
       "      <td>P48995</td>\n",
       "      <td>CALM3</td>\n",
       "      <td>TRPC1</td>\n",
       "      <td>True</td>\n",
       "      <td>False</td>\n",
       "      <td>True</td>\n",
       "      <td>True</td>\n",
       "      <td>False</td>\n",
       "      <td>True</td>\n",
       "      <td>3</td>\n",
       "      <td>TRIP:11290752;TRIP:11983166;TRIP:12601176</td>\n",
       "      <td>TRIP</td>\n",
       "      <td>1</td>\n",
       "      <td>1</td>\n",
       "      <td>3</td>\n",
       "      <td>11290752;11983166;12601176</td>\n",
       "    </tr>\n",
       "    <tr>\n",
       "      <th>2</th>\n",
       "      <td>P0DP24</td>\n",
       "      <td>P48995</td>\n",
       "      <td>CALM2</td>\n",
       "      <td>TRPC1</td>\n",
       "      <td>True</td>\n",
       "      <td>False</td>\n",
       "      <td>True</td>\n",
       "      <td>True</td>\n",
       "      <td>False</td>\n",
       "      <td>True</td>\n",
       "      <td>3</td>\n",
       "      <td>TRIP:11290752;TRIP:11983166;TRIP:12601176</td>\n",
       "      <td>TRIP</td>\n",
       "      <td>1</td>\n",
       "      <td>1</td>\n",
       "      <td>3</td>\n",
       "      <td>11290752;11983166;12601176</td>\n",
       "    </tr>\n",
       "    <tr>\n",
       "      <th>3</th>\n",
       "      <td>Q03135</td>\n",
       "      <td>P48995</td>\n",
       "      <td>CAV1</td>\n",
       "      <td>TRPC1</td>\n",
       "      <td>True</td>\n",
       "      <td>True</td>\n",
       "      <td>False</td>\n",
       "      <td>True</td>\n",
       "      <td>True</td>\n",
       "      <td>False</td>\n",
       "      <td>13</td>\n",
       "      <td>DIP:19897728;HPRD:12732636;IntAct:19897728;Lit...</td>\n",
       "      <td>DIP;HPRD;IntAct;Lit-BM-17;TRIP</td>\n",
       "      <td>5</td>\n",
       "      <td>5</td>\n",
       "      <td>8</td>\n",
       "      <td>10980191;12732636;14551243;16822931;18430726;1...</td>\n",
       "    </tr>\n",
       "    <tr>\n",
       "      <th>4</th>\n",
       "      <td>P14416</td>\n",
       "      <td>P48995</td>\n",
       "      <td>DRD2</td>\n",
       "      <td>TRPC1</td>\n",
       "      <td>True</td>\n",
       "      <td>True</td>\n",
       "      <td>False</td>\n",
       "      <td>True</td>\n",
       "      <td>True</td>\n",
       "      <td>False</td>\n",
       "      <td>1</td>\n",
       "      <td>TRIP:18261457</td>\n",
       "      <td>TRIP</td>\n",
       "      <td>1</td>\n",
       "      <td>1</td>\n",
       "      <td>1</td>\n",
       "      <td>18261457</td>\n",
       "    </tr>\n",
       "  </tbody>\n",
       "</table>\n",
       "</div>"
      ],
      "text/plain": [
       "   source  target source_genesymbol target_genesymbol  is_directed  \\\n",
       "0  P0DP23  P48995             CALM1             TRPC1         True   \n",
       "1  P0DP25  P48995             CALM3             TRPC1         True   \n",
       "2  P0DP24  P48995             CALM2             TRPC1         True   \n",
       "3  Q03135  P48995              CAV1             TRPC1         True   \n",
       "4  P14416  P48995              DRD2             TRPC1         True   \n",
       "\n",
       "   is_stimulation  is_inhibition  consensus_direction  consensus_stimulation  \\\n",
       "0           False           True                 True                  False   \n",
       "1           False           True                 True                  False   \n",
       "2           False           True                 True                  False   \n",
       "3            True          False                 True                   True   \n",
       "4            True          False                 True                   True   \n",
       "\n",
       "   consensus_inhibition  curation_effort  \\\n",
       "0                  True                3   \n",
       "1                  True                3   \n",
       "2                  True                3   \n",
       "3                 False               13   \n",
       "4                 False                1   \n",
       "\n",
       "                                          references  \\\n",
       "0          TRIP:11290752;TRIP:11983166;TRIP:12601176   \n",
       "1          TRIP:11290752;TRIP:11983166;TRIP:12601176   \n",
       "2          TRIP:11290752;TRIP:11983166;TRIP:12601176   \n",
       "3  DIP:19897728;HPRD:12732636;IntAct:19897728;Lit...   \n",
       "4                                      TRIP:18261457   \n",
       "\n",
       "                          sources  n_sources  n_primary_sources n_references  \\\n",
       "0                            TRIP          1                  1            3   \n",
       "1                            TRIP          1                  1            3   \n",
       "2                            TRIP          1                  1            3   \n",
       "3  DIP;HPRD;IntAct;Lit-BM-17;TRIP          5                  5            8   \n",
       "4                            TRIP          1                  1            1   \n",
       "\n",
       "                                 references_stripped  \n",
       "0                         11290752;11983166;12601176  \n",
       "1                         11290752;11983166;12601176  \n",
       "2                         11290752;11983166;12601176  \n",
       "3  10980191;12732636;14551243;16822931;18430726;1...  \n",
       "4                                           18261457  "
      ]
     },
     "execution_count": 38,
     "metadata": {},
     "output_type": "execute_result"
    }
   ],
   "source": [
    "omnipath = op.interactions.PostTranslational.get(\n",
    "    directed=True,\n",
    "    genesymbols=True,\n",
    "    organism=\"human\"\n",
    ")\n",
    "print(len(omnipath))\n",
    "omnipath.head()"
   ]
  },
  {
   "cell_type": "code",
   "execution_count": 39,
   "metadata": {},
   "outputs": [
    {
     "data": {
      "text/html": [
       "<div>\n",
       "<style scoped>\n",
       "    .dataframe tbody tr th:only-of-type {\n",
       "        vertical-align: middle;\n",
       "    }\n",
       "\n",
       "    .dataframe tbody tr th {\n",
       "        vertical-align: top;\n",
       "    }\n",
       "\n",
       "    .dataframe thead th {\n",
       "        text-align: right;\n",
       "    }\n",
       "</style>\n",
       "<table border=\"1\" class=\"dataframe\">\n",
       "  <thead>\n",
       "    <tr style=\"text-align: right;\">\n",
       "      <th></th>\n",
       "      <th>source_genesymbol</th>\n",
       "      <th>target_genesymbol</th>\n",
       "    </tr>\n",
       "  </thead>\n",
       "  <tbody>\n",
       "    <tr>\n",
       "      <th>147</th>\n",
       "      <td>PPP2CA_PPP2R5A_PTPA</td>\n",
       "      <td>RBL1</td>\n",
       "    </tr>\n",
       "    <tr>\n",
       "      <th>182</th>\n",
       "      <td>PRKAA1_PRKAA2_PRKAB1_PRKAB2_PRKAG1_PRKAG2_PRKAG3</td>\n",
       "      <td>CRTC2</td>\n",
       "    </tr>\n",
       "    <tr>\n",
       "      <th>235</th>\n",
       "      <td>CSNK2A1_CSNK2B</td>\n",
       "      <td>H4C2</td>\n",
       "    </tr>\n",
       "    <tr>\n",
       "      <th>247</th>\n",
       "      <td>ATF2_JUN</td>\n",
       "      <td>SELE</td>\n",
       "    </tr>\n",
       "    <tr>\n",
       "      <th>252</th>\n",
       "      <td>BTRC_CUL1_SKP1</td>\n",
       "      <td>PER2</td>\n",
       "    </tr>\n",
       "  </tbody>\n",
       "</table>\n",
       "</div>"
      ],
      "text/plain": [
       "                                    source_genesymbol target_genesymbol\n",
       "147                               PPP2CA_PPP2R5A_PTPA              RBL1\n",
       "182  PRKAA1_PRKAA2_PRKAB1_PRKAB2_PRKAG1_PRKAG2_PRKAG3             CRTC2\n",
       "235                                    CSNK2A1_CSNK2B              H4C2\n",
       "247                                          ATF2_JUN              SELE\n",
       "252                                    BTRC_CUL1_SKP1              PER2"
      ]
     },
     "execution_count": 39,
     "metadata": {},
     "output_type": "execute_result"
    }
   ],
   "source": [
    "# verificar se existem complexos proteicos na rede\n",
    "omnipath.loc[\n",
    "    omnipath[\"source_genesymbol\"].str.contains(r'[:_]')|\n",
    "    omnipath[\"target_genesymbol\"].str.contains(r'[:_]'),\n",
    "    ['source_genesymbol', 'target_genesymbol']\n",
    "].head(5)"
   ]
  },
  {
   "cell_type": "code",
   "execution_count": 40,
   "metadata": {},
   "outputs": [
    {
     "data": {
      "text/html": [
       "<div>\n",
       "<style scoped>\n",
       "    .dataframe tbody tr th:only-of-type {\n",
       "        vertical-align: middle;\n",
       "    }\n",
       "\n",
       "    .dataframe tbody tr th {\n",
       "        vertical-align: top;\n",
       "    }\n",
       "\n",
       "    .dataframe thead th {\n",
       "        text-align: right;\n",
       "    }\n",
       "</style>\n",
       "<table border=\"1\" class=\"dataframe\">\n",
       "  <thead>\n",
       "    <tr style=\"text-align: right;\">\n",
       "      <th></th>\n",
       "      <th>source_genesymbol</th>\n",
       "      <th>target_genesymbol</th>\n",
       "    </tr>\n",
       "  </thead>\n",
       "  <tbody>\n",
       "    <tr>\n",
       "      <th>11321</th>\n",
       "      <td>CCNH_CDK7_ERCC2_ERCC3_GTF2H1_GTF2H2_GTF2H2C_2_...</td>\n",
       "      <td>NR5A1</td>\n",
       "    </tr>\n",
       "    <tr>\n",
       "      <th>14980</th>\n",
       "      <td>CCNH_CDK7_ERCC2_ERCC3_GTF2H1_GTF2H2_GTF2H2C_2_...</td>\n",
       "      <td>POLR2A</td>\n",
       "    </tr>\n",
       "    <tr>\n",
       "      <th>50987</th>\n",
       "      <td>CCNH_CDK7_ERCC2_ERCC3_GTF2H1_GTF2H2_GTF2H2C_2_...</td>\n",
       "      <td>AR</td>\n",
       "    </tr>\n",
       "    <tr>\n",
       "      <th>51630</th>\n",
       "      <td>GTF2E1_GTF2E2</td>\n",
       "      <td>CCNH_CDK7_ERCC2_ERCC3_GTF2H1_GTF2H2_GTF2H2C_2_...</td>\n",
       "    </tr>\n",
       "    <tr>\n",
       "      <th>53736</th>\n",
       "      <td>CCNH_CDK7_ERCC2_ERCC3_GTF2H1_GTF2H2_GTF2H2C_2_...</td>\n",
       "      <td>E2F1</td>\n",
       "    </tr>\n",
       "    <tr>\n",
       "      <th>55039</th>\n",
       "      <td>CCNH_CDK7_ERCC2_ERCC3_GTF2H1_GTF2H2_GTF2H2C_2_...</td>\n",
       "      <td>ESR1</td>\n",
       "    </tr>\n",
       "  </tbody>\n",
       "</table>\n",
       "</div>"
      ],
      "text/plain": [
       "                                       source_genesymbol  \\\n",
       "11321  CCNH_CDK7_ERCC2_ERCC3_GTF2H1_GTF2H2_GTF2H2C_2_...   \n",
       "14980  CCNH_CDK7_ERCC2_ERCC3_GTF2H1_GTF2H2_GTF2H2C_2_...   \n",
       "50987  CCNH_CDK7_ERCC2_ERCC3_GTF2H1_GTF2H2_GTF2H2C_2_...   \n",
       "51630                                      GTF2E1_GTF2E2   \n",
       "53736  CCNH_CDK7_ERCC2_ERCC3_GTF2H1_GTF2H2_GTF2H2C_2_...   \n",
       "55039  CCNH_CDK7_ERCC2_ERCC3_GTF2H1_GTF2H2_GTF2H2C_2_...   \n",
       "\n",
       "                                       target_genesymbol  \n",
       "11321                                              NR5A1  \n",
       "14980                                             POLR2A  \n",
       "50987                                                 AR  \n",
       "51630  CCNH_CDK7_ERCC2_ERCC3_GTF2H1_GTF2H2_GTF2H2C_2_...  \n",
       "53736                                               E2F1  \n",
       "55039                                               ESR1  "
      ]
     },
     "execution_count": 40,
     "metadata": {},
     "output_type": "execute_result"
    }
   ],
   "source": [
    "# some complexes have a genesymbol with an \"_\"\n",
    "omnipath.loc[\n",
    "(omnipath[\"source_genesymbol\"].str.contains(\"GTF2H2C_2\"))|\n",
    "(omnipath[\"target_genesymbol\"].str.contains(\"GTF2H2C_2\")),\n",
    "['source_genesymbol', 'target_genesymbol']\n",
    "]"
   ]
  },
  {
   "cell_type": "code",
   "execution_count": 41,
   "metadata": {},
   "outputs": [
    {
     "name": "stdout",
     "output_type": "stream",
     "text": [
      "['CCNH', 'CDK7', 'ERCC2', 'ERCC3', 'GTF2H1', 'GTF2H2', 'GTF2H2C', '2', 'GTF2H3', 'GTF2H4', 'GTF2H5', 'MNAT1']\n",
      "['CCNH', 'CDK7', 'ERCC2', 'ERCC3', 'GTF2H1', 'GTF2H2', 'GTF2H2C', '2', 'GTF2H3', 'GTF2H4', 'GTF2H5', 'MNAT1']\n",
      "['CCNH', 'CDK7', 'ERCC2', 'ERCC3', 'GTF2H1', 'GTF2H2', 'GTF2H2C', '2', 'GTF2H3', 'GTF2H4', 'GTF2H5', 'MNAT1']\n",
      "['GTF2E1', 'GTF2E2']\n",
      "['CCNH', 'CDK7', 'ERCC2', 'ERCC3', 'GTF2H1', 'GTF2H2', 'GTF2H2C', '2', 'GTF2H3', 'GTF2H4', 'GTF2H5', 'MNAT1']\n",
      "['CCNH', 'CDK7', 'ERCC2', 'ERCC3', 'GTF2H1', 'GTF2H2', 'GTF2H2C', '2', 'GTF2H3', 'GTF2H4', 'GTF2H5', 'MNAT1']\n",
      "['NR5A1']\n",
      "['POLR2A']\n",
      "['AR']\n",
      "['CCNH', 'CDK7', 'ERCC2', 'ERCC3', 'GTF2H1', 'GTF2H2', 'GTF2H2C', '2', 'GTF2H3', 'GTF2H4', 'GTF2H5', 'MNAT1']\n",
      "['E2F1']\n",
      "['ESR1']\n"
     ]
    }
   ],
   "source": [
    "x = (omnipath\n",
    "     [[\"source\", \"target\", \"source_genesymbol\", \"target_genesymbol\"]]\n",
    "     .assign(\n",
    "         source = omnipath[\"source\"].str.split(\"_\"),\n",
    "         target = omnipath[\"target\"].str.split(\"_\"),\n",
    "         source_genesymbol = omnipath[\"source_genesymbol\"].str.split(\"_\"),\n",
    "         target_genesymbol = omnipath[\"target_genesymbol\"].str.split(\"_\"),\n",
    "     )\n",
    "    )\n",
    "x = x.loc[\n",
    "(x.source_genesymbol.str.len()!=x.source.str.len())|\n",
    "(x.target_genesymbol.str.len()!=x.target.str.len()), [\"source_genesymbol\", \"target_genesymbol\"]\n",
    "]\n",
    "for col in x.columns:\n",
    "    for val in x[col].values:\n",
    "        print(val)\n",
    "    "
   ]
  },
  {
   "cell_type": "code",
   "execution_count": 42,
   "metadata": {},
   "outputs": [
    {
     "name": "stdout",
     "output_type": "stream",
     "text": [
      "108606\n"
     ]
    },
    {
     "data": {
      "text/html": [
       "<div>\n",
       "<style scoped>\n",
       "    .dataframe tbody tr th:only-of-type {\n",
       "        vertical-align: middle;\n",
       "    }\n",
       "\n",
       "    .dataframe tbody tr th {\n",
       "        vertical-align: top;\n",
       "    }\n",
       "\n",
       "    .dataframe thead th {\n",
       "        text-align: right;\n",
       "    }\n",
       "</style>\n",
       "<table border=\"1\" class=\"dataframe\">\n",
       "  <thead>\n",
       "    <tr style=\"text-align: right;\">\n",
       "      <th></th>\n",
       "      <th>source_genesymbol</th>\n",
       "      <th>target_genesymbol</th>\n",
       "    </tr>\n",
       "  </thead>\n",
       "  <tbody>\n",
       "    <tr>\n",
       "      <th>0</th>\n",
       "      <td>CALM1</td>\n",
       "      <td>TRPC1</td>\n",
       "    </tr>\n",
       "    <tr>\n",
       "      <th>1</th>\n",
       "      <td>CALM3</td>\n",
       "      <td>TRPC1</td>\n",
       "    </tr>\n",
       "    <tr>\n",
       "      <th>2</th>\n",
       "      <td>CALM2</td>\n",
       "      <td>TRPC1</td>\n",
       "    </tr>\n",
       "    <tr>\n",
       "      <th>3</th>\n",
       "      <td>CAV1</td>\n",
       "      <td>TRPC1</td>\n",
       "    </tr>\n",
       "    <tr>\n",
       "      <th>4</th>\n",
       "      <td>DRD2</td>\n",
       "      <td>TRPC1</td>\n",
       "    </tr>\n",
       "  </tbody>\n",
       "</table>\n",
       "</div>"
      ],
      "text/plain": [
       "  source_genesymbol target_genesymbol\n",
       "0             CALM1             TRPC1\n",
       "1             CALM3             TRPC1\n",
       "2             CALM2             TRPC1\n",
       "3              CAV1             TRPC1\n",
       "4              DRD2             TRPC1"
      ]
     },
     "execution_count": 42,
     "metadata": {},
     "output_type": "execute_result"
    }
   ],
   "source": [
    "# Unfold complexes\n",
    "omnipath_cols = (omnipath\n",
    "                 [[\"source_genesymbol\", \"target_genesymbol\"]]\n",
    "                 .assign(\n",
    "                     source_genesymbol = omnipath[\"source_genesymbol\"].str.split(\"_\"),\n",
    "                     target_genesymbol = omnipath[\"target_genesymbol\"].str.split(\"_\"),\n",
    "                 )\n",
    "                 .explode(\"source_genesymbol\").explode(\"target_genesymbol\")\n",
    "                 .drop_duplicates()\n",
    "                )\n",
    "\n",
    "print(len(omnipath_cols))\n",
    "omnipath_cols.head()"
   ]
  },
  {
   "cell_type": "code",
   "execution_count": 43,
   "metadata": {},
   "outputs": [
    {
     "name": "stdout",
     "output_type": "stream",
     "text": [
      "108606\n",
      "108599\n"
     ]
    }
   ],
   "source": [
    "omnipath_cols.loc[omnipath_cols.source_genesymbol==\"2\", \"source_genesymbol\"] = \"GTF2H2C_2\"\n",
    "omnipath_cols.loc[omnipath_cols.source_genesymbol==\"GTF2H2C\", \"source_genesymbol\"] = \"GTF2H2C_2\"\n",
    "omnipath_cols.loc[omnipath_cols.target_genesymbol==\"2\", \"source_genesymbol\"] = \"GTF2H2C_2\"\n",
    "omnipath_cols.loc[omnipath_cols.target_genesymbol==\"GTF2H2C\", \"source_genesymbol\"] = \"GTF2H2C_2\"\n",
    "print(len(omnipath_cols))\n",
    "omnipath_cols = omnipath_cols.drop_duplicates()\n",
    "print(len(omnipath_cols))"
   ]
  },
  {
   "cell_type": "code",
   "execution_count": 44,
   "metadata": {},
   "outputs": [
    {
     "name": "stdout",
     "output_type": "stream",
     "text": [
      "10485\n"
     ]
    },
    {
     "data": {
      "text/plain": [
       "0    CALM1\n",
       "1    CALM3\n",
       "Name: omnipathsymbol, dtype: object"
      ]
     },
     "execution_count": 44,
     "metadata": {},
     "output_type": "execute_result"
    }
   ],
   "source": [
    "omnipath_ids = pd.concat([omnipath_cols.source_genesymbol, omnipath_cols.target_genesymbol]\n",
    "               ).drop_duplicates(ignore_index=True).rename(\"omnipathsymbol\")\n",
    "\n",
    "print(len(omnipath_ids))\n",
    "omnipath_ids.head(2)"
   ]
  },
  {
   "cell_type": "code",
   "execution_count": 45,
   "metadata": {},
   "outputs": [
    {
     "name": "stdout",
     "output_type": "stream",
     "text": [
      "10428\n",
      "10428\n"
     ]
    },
    {
     "data": {
      "text/plain": [
       "omnipathsymbol\n",
       "CALM1    CALM1\n",
       "CALM3    CALM3\n",
       "Name: symbol, dtype: string"
      ]
     },
     "execution_count": 45,
     "metadata": {},
     "output_type": "execute_result"
    }
   ],
   "source": [
    "# map genesymbols and prev_symbols\n",
    "hgnc_map = (\n",
    "    pd.merge(omnipath_ids, genesymbols, how=\"left\", left_on=\"omnipathsymbol\", right_on=\"symbol\")\n",
    "    .merge(prev_symbols, how=\"left\", left_on=\"omnipathsymbol\", right_index=True, suffixes=[\"_1\", \"_2\"])\n",
    ")\n",
    "\n",
    "# select mappings in order\n",
    "hgnc_map = pd.concat([\n",
    "    hgnc_map[[\"omnipathsymbol\", \"symbol_1\"]].dropna(subset=\"symbol_1\").rename(columns={\"symbol_1\": \"symbol\"}),\n",
    "    hgnc_map.loc[hgnc_map.symbol_1.isna(), [\"omnipathsymbol\", \"symbol_2\"]].dropna(subset=\"symbol_2\").rename(columns={\"symbol_2\": \"symbol\"}),\n",
    "]).set_index([\"omnipathsymbol\"]).symbol\n",
    "\n",
    "print(len(hgnc_map))\n",
    "print(len(hgnc_map.index.drop_duplicates()))\n",
    "hgnc_map.head(2)"
   ]
  },
  {
   "cell_type": "code",
   "execution_count": 46,
   "metadata": {},
   "outputs": [
    {
     "name": "stdout",
     "output_type": "stream",
     "text": [
      "106749\n"
     ]
    },
    {
     "data": {
      "text/html": [
       "<div>\n",
       "<style scoped>\n",
       "    .dataframe tbody tr th:only-of-type {\n",
       "        vertical-align: middle;\n",
       "    }\n",
       "\n",
       "    .dataframe tbody tr th {\n",
       "        vertical-align: top;\n",
       "    }\n",
       "\n",
       "    .dataframe thead th {\n",
       "        text-align: right;\n",
       "    }\n",
       "</style>\n",
       "<table border=\"1\" class=\"dataframe\">\n",
       "  <thead>\n",
       "    <tr style=\"text-align: right;\">\n",
       "      <th></th>\n",
       "      <th>protein_A</th>\n",
       "      <th>protein_B</th>\n",
       "    </tr>\n",
       "  </thead>\n",
       "  <tbody>\n",
       "    <tr>\n",
       "      <th>0</th>\n",
       "      <td>CALM1</td>\n",
       "      <td>TRPC1</td>\n",
       "    </tr>\n",
       "    <tr>\n",
       "      <th>1</th>\n",
       "      <td>CALM3</td>\n",
       "      <td>TRPC1</td>\n",
       "    </tr>\n",
       "  </tbody>\n",
       "</table>\n",
       "</div>"
      ],
      "text/plain": [
       "  protein_A protein_B\n",
       "0     CALM1     TRPC1\n",
       "1     CALM3     TRPC1"
      ]
     },
     "execution_count": 46,
     "metadata": {},
     "output_type": "execute_result"
    }
   ],
   "source": [
    "# Uniprot IDs are unique and so can be used to merge symbols with graph\n",
    "omnipath_graph = (omnipath_cols\n",
    "                 .merge(hgnc_map, left_on=\"source_genesymbol\", right_index=True)\n",
    "                 .merge(hgnc_map, left_on=\"target_genesymbol\", right_index=True, suffixes=[\"_A\", \"_B\"])\n",
    "                 [[\"symbol_A\", \"symbol_B\"]].rename(columns={\"symbol_A\": \"protein_A\", \"symbol_B\": \"protein_B\"})\n",
    "                ).drop_duplicates()\n",
    "print(len(omnipath_graph))\n",
    "omnipath_graph.head(2)"
   ]
  },
  {
   "cell_type": "code",
   "execution_count": 47,
   "metadata": {},
   "outputs": [
    {
     "name": "stdout",
     "output_type": "stream",
     "text": [
      "Proteins in column A: 7011\n",
      "Proteins in column B: 9030\n",
      "Number of proteins (nodes): 10408\n",
      "Number of interactions (edges): 106749\n"
     ]
    }
   ],
   "source": [
    "# Mostrar os resultados\n",
    "genelist = set()\n",
    "for col in omnipath_graph.columns:\n",
    "    genes = omnipath_graph[col].unique().tolist()\n",
    "    print(f\"Proteins in column {col.split('_')[1]}: {len(genes)}\")\n",
    "    genelist |= set(genes)\n",
    "\n",
    "print(f\"Number of proteins (nodes): {len(genelist)}\")\n",
    "print(f\"Number of interactions (edges): {len(omnipath_graph)}\")"
   ]
  },
  {
   "cell_type": "code",
   "execution_count": 48,
   "metadata": {},
   "outputs": [],
   "source": [
    "omnipath_graph.to_csv(datadir+'omnipath_graph.csv', index=False)"
   ]
  }
 ],
 "metadata": {
  "kernelspec": {
   "display_name": "Python 3 (ipykernel)",
   "language": "python",
   "name": "python3"
  },
  "language_info": {
   "codemirror_mode": {
    "name": "ipython",
    "version": 3
   },
   "file_extension": ".py",
   "mimetype": "text/x-python",
   "name": "python",
   "nbconvert_exporter": "python",
   "pygments_lexer": "ipython3",
   "version": "3.12.5"
  }
 },
 "nbformat": 4,
 "nbformat_minor": 4
}
